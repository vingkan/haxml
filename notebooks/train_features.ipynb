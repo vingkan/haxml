{
 "cells": [
  {
   "cell_type": "markdown",
   "metadata": {},
   "source": [
    "# Train Demo Model\n",
    "\n",
    "This notebook shows an example of how to train, evaluate, and save a model to predicted expected goals from match and stadium data."
   ]
  },
  {
   "cell_type": "code",
   "execution_count": 6,
   "metadata": {},
   "outputs": [],
   "source": [
    "%matplotlib inline"
   ]
  },
  {
   "cell_type": "code",
   "execution_count": 7,
   "metadata": {},
   "outputs": [],
   "source": [
    "import sys\n",
    "sys.path.append(\"../\")\n",
    "\n",
    "from haxml.utils import (\n",
    "    get_matches_metadata,\n",
    "    get_stadiums,\n",
    "    get_opposing_goalpost,\n",
    "    load_match,\n",
    "    is_target_stadium,\n",
    "    is_scored_goal,\n",
    "    total_scored_goals,\n",
    "    total_kicks,\n",
    "    goal_fraction,\n",
    "    stadium_distance,\n",
    "    angle_from_goal,\n",
    "    train_test_split_matches_even_count\n",
    ")\n",
    "\n",
    "from haxml.viz import (\n",
    "    plot_positions\n",
    ")\n",
    "\n",
    "import math\n",
    "import matplotlib.pyplot as plt\n",
    "import pandas as pd\n",
    "from tqdm import tqdm"
   ]
  },
  {
   "cell_type": "markdown",
   "metadata": {},
   "source": [
    "## Split Train/Test Data\n",
    "\n",
    "Choosing a train/test split is an important aspect of training ML models.\n",
    "\n",
    "- We want to have enough data to train and test our model.\n",
    "- We want both splits to be representative of what the model will encounter in production.\n",
    "- We want the target variable to have similar frequency in both the train and test data.\n",
    "- We do not want to leak information about the test data into the train data.\n",
    "\n",
    "Read, execute, and understand how we make this train/test split in the cells below. What are some things that are good and bad about how we are splitting the data?"
   ]
  },
  {
   "cell_type": "code",
   "execution_count": 8,
   "metadata": {},
   "outputs": [],
   "source": [
    "stadiums = get_stadiums(\"../data/stadiums.json\")\n",
    "metadata = get_matches_metadata(\"../data/matches_metadata.csv\")"
   ]
  },
  {
   "cell_type": "markdown",
   "metadata": {},
   "source": [
    "The full, inflated match records contain the players' positional data, which can become quite large if we load them all at once. To be more efficient with memory, we have a file of match metadata records, providing us basic information that we can use to split train/test data and to evaluate models, without loading the full match data.\n",
    "\n",
    "The memory savings allow us to do this analysis from the comfort of a Jupyter notebook without needing much more computing power.\n",
    "\n",
    "Check out an example of the metadata for one match. Note that \"scored goals\" can differ from the actual score. We don't consider own-goals as scored goals (only errors, which are shots from an offensive player that deflect off of defenders), since the offense did not directly produce them.\n",
    "\n",
    "We will build a model to predict offensive XG. But XG is also used as a defensive metric. Own goals are one reason a defense may give up more goals than XG predicts."
   ]
  },
  {
   "cell_type": "code",
   "execution_count": 6,
   "metadata": {},
   "outputs": [
    {
     "data": {
      "text/plain": [
       "{'match_id': '-MPG8aVg406bTT1daesR',\n",
       " 'stadium': 'NAFL 1v1/2v2 Map v1',\n",
       " 'time': 106.8,\n",
       " 'kicks_red': 21,\n",
       " 'kicks_blue': 30,\n",
       " 'score_red': 3,\n",
       " 'score_blue': 2,\n",
       " 'scored_goals_red': 2,\n",
       " 'scored_goals_blue': 2}"
      ]
     },
     "execution_count": 6,
     "metadata": {},
     "output_type": "execute_result"
    }
   ],
   "source": [
    "metadata[26]"
   ]
  },
  {
   "cell_type": "markdown",
   "metadata": {},
   "source": [
    "Our `haxml.utils` module has one method for split matches into train and test data. You can check the docstring of a method by calling `help()`. Let's see what this one does."
   ]
  },
  {
   "cell_type": "code",
   "execution_count": 7,
   "metadata": {},
   "outputs": [
    {
     "name": "stdout",
     "output_type": "stream",
     "text": [
      "Help on function train_test_split_matches_even_count in module haxml.utils:\n",
      "\n",
      "train_test_split_matches_even_count(metadata)\n",
      "    Evenly splits matches into train and test lists of almost the same size.\n",
      "    Matches are sorted by number of scored goals, in an attempt to evenly\n",
      "    distribute scored goals between the two lists.\n",
      "    Args:\n",
      "        metadata: List of dicts with IDs and metadata for each match, to split\n",
      "            into train and test lists.\n",
      "    Returns:\n",
      "        (train, test): Tuple containing match IDs for train and test splits\n",
      "            (lists of strings).\n",
      "\n"
     ]
    }
   ],
   "source": [
    "help(train_test_split_matches_even_count)"
   ]
  },
  {
   "cell_type": "code",
   "execution_count": 8,
   "metadata": {},
   "outputs": [],
   "source": [
    "train, test = train_test_split_matches_even_count(metadata)"
   ]
  },
  {
   "cell_type": "code",
   "execution_count": 9,
   "metadata": {},
   "outputs": [],
   "source": [
    "def summarize_split(metadata):\n",
    "    \"\"\"\n",
    "    Helper method to summarize a train/test split.\n",
    "    Args:\n",
    "        metadata: Match metadata for one split (list of dicts).\n",
    "    \"\"\"\n",
    "    goals = sum(total_scored_goals(m) for m in metadata)\n",
    "    kicks = sum(total_kicks(m) for m in metadata)\n",
    "    frac = goal_fraction(goals, kicks)\n",
    "    print(\"Matches: {:,}\".format(len(metadata)))\n",
    "    print(\"Goals: {:,}\".format(goals))\n",
    "    print(\"Kicks: {:,}\".format(kicks))\n",
    "    print(\"E(XG): {:.3f}\".format(frac))"
   ]
  },
  {
   "cell_type": "code",
   "execution_count": 10,
   "metadata": {},
   "outputs": [
    {
     "name": "stdout",
     "output_type": "stream",
     "text": [
      "Train Data:\n",
      "Matches: 394\n",
      "Goals: 1,119\n",
      "Kicks: 32,595\n",
      "E(XG): 0.034\n",
      "\n",
      "Test Data:\n",
      "Matches: 393\n",
      "Goals: 1,111\n",
      "Kicks: 32,190\n",
      "E(XG): 0.035\n"
     ]
    }
   ],
   "source": [
    "print(\"Train Data:\")\n",
    "summarize_split(train)\n",
    "print()\n",
    "print(\"Test Data:\")\n",
    "summarize_split(test)"
   ]
  },
  {
   "cell_type": "markdown",
   "metadata": {},
   "source": [
    "## Extract Features\n",
    "\n",
    "To make predictions, our model needs some input features. Since we have kicks from different stadiums, we can't use the position where the ball was kicked from on its own.\n",
    "\n",
    "In this demo, we will use some methods from `haxml.utils` to transform the basic kickdata into features that may help predict XG:\n",
    "\n",
    "- `get_opposing_goalpost(stadium, team)`\n",
    "- `stadium_distance(x1, y1, x2, y2)`\n",
    "- `angle_from_goal(x, y, gx, gy)`\n",
    "\n",
    "You can call `help()` to read their docstrings, or check the source code in `haxml/utils.py`.\n",
    "\n",
    "We combine the above methods into a new method:"
   ]
  },
  {
   "cell_type": "code",
   "execution_count": 11,
   "metadata": {},
   "outputs": [],
   "source": [
    "def get_positions_at_time(positions, t):\n",
    "    \"\"\"\n",
    "    Return a list of positions (dicts) closest to, but before time t.\n",
    "    \"\"\"\n",
    "    # Assume positions list is already sorted.\n",
    "    # frame is a list of positions (dicts) that have the same timestamp.\n",
    "    frame = []\n",
    "    time = 0.0\n",
    "    for pos in positions:\n",
    "        if pos[\"time\"] > t:\n",
    "            break\n",
    "        if pos[\"time\"] == time:\n",
    "            frame.append(pos)\n",
    "        else:\n",
    "            frame = []\n",
    "            time = pos[\"time\"]\n",
    "    return frame"
   ]
  },
  {
   "cell_type": "code",
   "execution_count": 21,
   "metadata": {},
   "outputs": [],
   "source": [
    "def defender_feature(match,kick,dist):\n",
    "    \"\"\"\n",
    "    For a given kick, find the closests defender and the number of defenders within 200 dist\n",
    "    \"\"\"\n",
    "    positions = get_positions_at_time(match[\"positions\"], kick[\"time\"])\n",
    "    ret = [0,0]\n",
    "    closest_defender = float('inf')\n",
    "    defenders_pressuring = 0\n",
    "    for person in positions:\n",
    "        if person['team'] is not kick['fromTeam'] and person['type'] == \"player\": \n",
    "            defender_dist = ((kick['fromX'] - person['x'])**2 + (kick['fromY'] - person['y'])**2)**(1/2) # distance formula\n",
    "            if defender_dist < closest_defender:\n",
    "                closest_defender = defender_dist\n",
    "                ret[0] = closest_defender\n",
    "            if defender_dist <= dist:\n",
    "                defenders_pressuring = defenders_pressuring + 1\n",
    "                ret[1] = defenders_pressuring\n",
    "    return ret"
   ]
  },
  {
   "cell_type": "code",
   "execution_count": 22,
   "metadata": {},
   "outputs": [],
   "source": [
    "def is_in_range(person,goal_low,goal_high,fromX,goal_x, kick_team):\n",
    "    is_x = False\n",
    "    is_y = False\n",
    "    if kick_team == \"red\":\n",
    "        if(person['x']>=fromX and person['x']<=goal_x):\n",
    "            is_x = True\n",
    "    else:\n",
    "        if(person['x']>=goal_x and person['x']<=fromX):\n",
    "            is_x = True\n",
    "    \n",
    "    if(person['y']>=goal_low and person['y']<=goal_high):\n",
    "        is_y = True\n",
    "        \n",
    "    return is_x and is_y"
   ]
  },
  {
   "cell_type": "code",
   "execution_count": 9,
   "metadata": {},
   "outputs": [],
   "source": [
    "def shot_range_features(match,stadium,kick):\n",
    "    #is_there_players =\n",
    "    #height,width =\n",
    "    #area = \n",
    "    \n",
    "    count = 0\n",
    "    gp = get_opposing_goalpost(stadium,kick[\"fromTeam\"])\n",
    "    gp_y_high = max([p[\"y\"] for p in gp[\"posts\"]])\n",
    "    gp_y_low = min([p[\"y\"] for p in gp[\"posts\"]])\n",
    "    goal_x = gp[\"posts\"][0][\"x\"]\n",
    "    positions = get_positions_at_time(match[\"positions\"], kick[\"time\"])\n",
    "    fig,ax = plot_positions(positions,stadium)\n",
    "    for person in positions:\n",
    "        if person[\"type\"] != \"ball\":\n",
    "            ax.text(person[\"x\"], person[\"y\"], person[\"name\"])\n",
    "    kicker = None\n",
    "    for person in positions:\n",
    "        print(person[\"playerId\"], person[\"name\"])\n",
    "        if person[\"playerId\"] == kick[\"fromId\"]:\n",
    "            kicker = person\n",
    "            break\n",
    "    if kicker is None:\n",
    "        return fig, 0\n",
    "    ax.plot([goal_x,goal_x],[gp_y_low,gp_y_high],color=\"green\",linestyle = \"-\")\n",
    "    ax.plot([kicker['x'],kicker['x']],[gp_y_low,gp_y_high],color=\"green\",linestyle = \"-\")\n",
    "    ax.plot([goal_x,kicker['x']],[gp_y_low,gp_y_low],color=\"green\",linestyle = \"-\")\n",
    "    ax.plot([goal_x,kicker['x']],[gp_y_high,gp_y_high],color=\"green\",linestyle = \"-\")\n",
    "    print(\"positions time = \", positions[0][\"time\"])\n",
    "    for person in positions:\n",
    "        if person[\"type\"] == \"ball\" or person[\"playerId\"] == kicker[\"playerId\"]:\n",
    "            continue\n",
    "        if is_in_range(person,gp_y_low,gp_y_high,kicker['x'],goal_x, kicker[\"team\"]):\n",
    "            count = count + 1\n",
    "    return fig,count"
   ]
  },
  {
   "cell_type": "code",
   "execution_count": 10,
   "metadata": {},
   "outputs": [
    {
     "ename": "NameError",
     "evalue": "name 'get_positions_at_time' is not defined",
     "output_type": "error",
     "traceback": [
      "\u001b[0;31m---------------------------------------------------------------------------\u001b[0m",
      "\u001b[0;31mNameError\u001b[0m                                 Traceback (most recent call last)",
      "\u001b[0;32m<ipython-input-10-46951debc67c>\u001b[0m in \u001b[0;36m<module>\u001b[0;34m\u001b[0m\n\u001b[1;32m      5\u001b[0m \u001b[0mstadium\u001b[0m \u001b[0;34m=\u001b[0m \u001b[0mstadiums\u001b[0m\u001b[0;34m[\u001b[0m\u001b[0mmeta\u001b[0m\u001b[0;34m[\u001b[0m\u001b[0;34m\"stadium\"\u001b[0m\u001b[0;34m]\u001b[0m\u001b[0;34m]\u001b[0m\u001b[0;34m\u001b[0m\u001b[0;34m\u001b[0m\u001b[0m\n\u001b[1;32m      6\u001b[0m \u001b[0mgoals\u001b[0m \u001b[0;34m=\u001b[0m \u001b[0mlist\u001b[0m\u001b[0;34m(\u001b[0m\u001b[0mfilter\u001b[0m\u001b[0;34m(\u001b[0m\u001b[0;32mlambda\u001b[0m \u001b[0mk\u001b[0m\u001b[0;34m:\u001b[0m \u001b[0mk\u001b[0m\u001b[0;34m[\u001b[0m\u001b[0;34m\"type\"\u001b[0m\u001b[0;34m]\u001b[0m \u001b[0;34m==\u001b[0m \u001b[0;34m\"goal\"\u001b[0m\u001b[0;34m,\u001b[0m\u001b[0mmatch\u001b[0m\u001b[0;34m[\u001b[0m\u001b[0;34m\"kicks\"\u001b[0m\u001b[0;34m]\u001b[0m\u001b[0;34m)\u001b[0m\u001b[0;34m)\u001b[0m\u001b[0;34m\u001b[0m\u001b[0;34m\u001b[0m\u001b[0m\n\u001b[0;32m----> 7\u001b[0;31m \u001b[0mfig\u001b[0m\u001b[0;34m,\u001b[0m\u001b[0mcount\u001b[0m \u001b[0;34m=\u001b[0m \u001b[0mshot_range_features\u001b[0m\u001b[0;34m(\u001b[0m\u001b[0mmatch\u001b[0m\u001b[0;34m,\u001b[0m\u001b[0mstadium\u001b[0m\u001b[0;34m,\u001b[0m\u001b[0mgoals\u001b[0m\u001b[0;34m[\u001b[0m\u001b[0;36m0\u001b[0m\u001b[0;34m]\u001b[0m\u001b[0;34m)\u001b[0m\u001b[0;34m\u001b[0m\u001b[0;34m\u001b[0m\u001b[0m\n\u001b[0m\u001b[1;32m      8\u001b[0m \u001b[0mprint\u001b[0m\u001b[0;34m(\u001b[0m\u001b[0mcount\u001b[0m\u001b[0;34m)\u001b[0m\u001b[0;34m\u001b[0m\u001b[0;34m\u001b[0m\u001b[0m\n\u001b[1;32m      9\u001b[0m \u001b[0mprint\u001b[0m\u001b[0;34m(\u001b[0m\u001b[0mgoals\u001b[0m\u001b[0;34m[\u001b[0m\u001b[0;36m0\u001b[0m\u001b[0;34m]\u001b[0m\u001b[0;34m)\u001b[0m\u001b[0;34m\u001b[0m\u001b[0;34m\u001b[0m\u001b[0m\n",
      "\u001b[0;32m<ipython-input-9-310c77d3046e>\u001b[0m in \u001b[0;36mshot_range_features\u001b[0;34m(match, stadium, kick)\u001b[0m\n\u001b[1;32m      9\u001b[0m     \u001b[0mgp_y_low\u001b[0m \u001b[0;34m=\u001b[0m \u001b[0mmin\u001b[0m\u001b[0;34m(\u001b[0m\u001b[0;34m[\u001b[0m\u001b[0mp\u001b[0m\u001b[0;34m[\u001b[0m\u001b[0;34m\"y\"\u001b[0m\u001b[0;34m]\u001b[0m \u001b[0;32mfor\u001b[0m \u001b[0mp\u001b[0m \u001b[0;32min\u001b[0m \u001b[0mgp\u001b[0m\u001b[0;34m[\u001b[0m\u001b[0;34m\"posts\"\u001b[0m\u001b[0;34m]\u001b[0m\u001b[0;34m]\u001b[0m\u001b[0;34m)\u001b[0m\u001b[0;34m\u001b[0m\u001b[0;34m\u001b[0m\u001b[0m\n\u001b[1;32m     10\u001b[0m     \u001b[0mgoal_x\u001b[0m \u001b[0;34m=\u001b[0m \u001b[0mgp\u001b[0m\u001b[0;34m[\u001b[0m\u001b[0;34m\"posts\"\u001b[0m\u001b[0;34m]\u001b[0m\u001b[0;34m[\u001b[0m\u001b[0;36m0\u001b[0m\u001b[0;34m]\u001b[0m\u001b[0;34m[\u001b[0m\u001b[0;34m\"x\"\u001b[0m\u001b[0;34m]\u001b[0m\u001b[0;34m\u001b[0m\u001b[0;34m\u001b[0m\u001b[0m\n\u001b[0;32m---> 11\u001b[0;31m     \u001b[0mpositions\u001b[0m \u001b[0;34m=\u001b[0m \u001b[0mget_positions_at_time\u001b[0m\u001b[0;34m(\u001b[0m\u001b[0mmatch\u001b[0m\u001b[0;34m[\u001b[0m\u001b[0;34m\"positions\"\u001b[0m\u001b[0;34m]\u001b[0m\u001b[0;34m,\u001b[0m \u001b[0mkick\u001b[0m\u001b[0;34m[\u001b[0m\u001b[0;34m\"time\"\u001b[0m\u001b[0;34m]\u001b[0m\u001b[0;34m)\u001b[0m\u001b[0;34m\u001b[0m\u001b[0;34m\u001b[0m\u001b[0m\n\u001b[0m\u001b[1;32m     12\u001b[0m     \u001b[0mfig\u001b[0m\u001b[0;34m,\u001b[0m\u001b[0max\u001b[0m \u001b[0;34m=\u001b[0m \u001b[0mplot_positions\u001b[0m\u001b[0;34m(\u001b[0m\u001b[0mpositions\u001b[0m\u001b[0;34m,\u001b[0m\u001b[0mstadium\u001b[0m\u001b[0;34m)\u001b[0m\u001b[0;34m\u001b[0m\u001b[0;34m\u001b[0m\u001b[0m\n\u001b[1;32m     13\u001b[0m     \u001b[0;32mfor\u001b[0m \u001b[0mperson\u001b[0m \u001b[0;32min\u001b[0m \u001b[0mpositions\u001b[0m\u001b[0;34m:\u001b[0m\u001b[0;34m\u001b[0m\u001b[0;34m\u001b[0m\u001b[0m\n",
      "\u001b[0;31mNameError\u001b[0m: name 'get_positions_at_time' is not defined"
     ]
    }
   ],
   "source": [
    "meta = metadata[67]\n",
    "key = meta[\"match_id\"]\n",
    "infile = \"../data/packed_matches/{}.json\".format(key)\n",
    "match = load_match(infile)\n",
    "stadium = stadiums[meta[\"stadium\"]]\n",
    "goals = list(filter(lambda k: k[\"type\"] == \"goal\",match[\"kicks\"]))\n",
    "fig,count = shot_range_features(match,stadium,goals[0])\n",
    "print(count)\n",
    "print(goals[0])\n",
    "fig.set_size_inches(10,6)\n",
    "fig "
   ]
  },
  {
   "cell_type": "code",
   "execution_count": 59,
   "metadata": {},
   "outputs": [],
   "source": [
    "def is_in_range(person,goal_low,goal_high,fromX,goal_x, kick_team):\n",
    "    is_x = False\n",
    "    is_y = False\n",
    "    if kick_team == \"red\":\n",
    "        if(person['x']>=fromX and person['x']<=goal_x):\n",
    "            is_x = True\n",
    "    else:\n",
    "        if(person['x']>=goal_x and person['x']<=fromX):\n",
    "            is_x = True\n",
    "    \n",
    "    if(person['y']>=goal_low and person['y']<=goal_high):\n",
    "        is_y = True\n",
    "        \n",
    "    return is_x and is_y\n",
    "\n",
    "def defender_box(match,stadium,kick):\n",
    "    #is_there_players =\n",
    "    #height,width =\n",
    "    #area = \n",
    "    count = 0\n",
    "    gp = get_opposing_goalpost(stadium,kick[\"fromTeam\"])\n",
    "    gp_y_high = max([p[\"y\"] for p in gp[\"posts\"]])\n",
    "    gp_y_low = min([p[\"y\"] for p in gp[\"posts\"]])\n",
    "    goal_x = gp[\"posts\"][0][\"x\"]\n",
    "    positions = get_positions_at_time(match[\"positions\"], kick[\"time\"])\n",
    "    kicker = None\n",
    "    for person in positions:\n",
    "        if person[\"playerId\"] == kick[\"fromId\"]:\n",
    "            kicker = person\n",
    "            break\n",
    "    if kicker is None:\n",
    "        return 0\n",
    "    #print(\"positions time = \", positions[0][\"time\"])\n",
    "    for person in positions:\n",
    "        if person[\"type\"] == \"ball\" or person[\"playerId\"] == kicker[\"playerId\"]:\n",
    "            continue\n",
    "        if is_in_range(person,gp_y_low,gp_y_high,kicker['x'],goal_x, kicker[\"team\"]):\n",
    "            count = count + 1\n",
    "    return count"
   ]
  },
  {
   "cell_type": "code",
   "execution_count": 34,
   "metadata": {},
   "outputs": [],
   "source": [
    "def is_in_range_tri(person,goal_low,goal_high,fromX,fromY,goal_x, kick_team):\n",
    "    \n",
    "    slope_1 = (fromX-goal_x)/(fromY-goal_low)\n",
    "    slope_2 = (fromX-goal_x)/(fromY-goal_high)\n",
    "    \n",
    "    if kick_team == \"red\":\n",
    "        if(person['x']>=fromX and person['x']<=goal_x):\n",
    "            is_x = True\n",
    "    else:\n",
    "        if(person['x']>=goal_x and person['x']<=fromX):\n",
    "            is_x = True\n",
    "    \n",
    "    if(person['y']>=goal_low and person['y']<=goal_high):\n",
    "        is_y = True\n",
    "        \n",
    "    return False\n",
    "\n",
    "def defender_cone(match,stadium,kick):\n",
    "    count = 0\n",
    "    gp = get_opposing_goalpost(stadium,kick[\"fromTeam\"])\n",
    "    gp_y_high = max([p[\"y\"] for p in gp[\"posts\"]])\n",
    "    gp_y_low = min([p[\"y\"] for p in gp[\"posts\"]])\n",
    "    goal_x = gp[\"posts\"][0][\"x\"]\n",
    "    positions = get_positions_at_time(match[\"positions\"], kick[\"time\"])\n",
    "    fig,ax = plot_positions(positions,stadium)\n",
    "    kicker = None\n",
    "    for person in positions:\n",
    "        if person[\"playerId\"] == kick[\"fromId\"]:\n",
    "            kicker = person\n",
    "            break\n",
    "    if kicker is None:\n",
    "        return 0\n",
    "    ax.plot([goal_x,goal_x],[gp_y_low,gp_y_high],color=\"green\",linestyle = \"-\") # goal line\n",
    "    ax.plot([goal_x,kicker['x']],[gp_y_low,kicker['y']],color=\"green\",linestyle = \"-\")\n",
    "    ax.plot([goal_x,kicker['x']],[gp_y_high,kicker['y']],color=\"green\",linestyle = \"-\")\n",
    "    #print(\"positions time = \", positions[0][\"time\"])\n",
    "    for person in positions:\n",
    "        if person[\"type\"] == \"ball\" or person[\"playerId\"] == kicker[\"playerId\"]:\n",
    "            continue\n",
    "        if is_in_range_tri(person,gp_y_low,gp_y_high,kicker['x'],kicker['x'],goal_x, kicker[\"team\"]):\n",
    "            count = count + 1\n",
    "    return fig,count"
   ]
  },
  {
   "cell_type": "code",
   "execution_count": 36,
   "metadata": {},
   "outputs": [
    {
     "name": "stdout",
     "output_type": "stream",
     "text": [
      "0\n",
      "{'time': 21.3, 'type': 'goal', 'fromId': 96, 'fromX': 454.0, 'fromY': 7.0, 'fromName': 'Player 93', 'fromTeam': 'red', 'toId': None, 'toX': None, 'toY': None, 'toName': None, 'toTeam': None}\n"
     ]
    },
    {
     "data": {
      "image/png": "[encoded data removed]",
      "text/plain": [
       "<Figure size 720x432 with 1 Axes>"
      ]
     },
     "execution_count": 36,
     "metadata": {},
     "output_type": "execute_result"
    }
   ],
   "source": [
    "meta = metadata[231]\n",
    "key = meta[\"match_id\"]\n",
    "infile = \"../data/packed_matches/{}.json\".format(key)\n",
    "match = load_match(infile)\n",
    "stadium = stadiums[meta[\"stadium\"]]\n",
    "goals = list(filter(lambda k: k[\"type\"] == \"goal\",match[\"kicks\"]))\n",
    "fig,count = defender_cone(match,stadium,goals[0])\n",
    "print(count)\n",
    "print(goals[0])\n",
    "fig.set_size_inches(10,6)\n",
    "fig "
   ]
  },
  {
   "cell_type": "code",
   "execution_count": 60,
   "metadata": {},
   "outputs": [],
   "source": [
    "def generate_rows_demo(match, stadium):\n",
    "    \"\"\"\n",
    "    Generates target and features for each kick in the match.\n",
    "    Produces two features for demo classifiers:\n",
    "        goal_distance: Distance from where  ball was kicked to goal midpoint.\n",
    "        goal_angle: Angle (in radians) between straight shot from where ball was\n",
    "            kicked to goal midpoint.\n",
    "    Args:\n",
    "        match: Inflated match data (dict).\n",
    "        stadium: Stadium data (dict).\n",
    "    Returns:\n",
    "        Generator of dicts with values for each kick in the given match.\n",
    "        Includes prediction target \"ag\" (actual goals) which is 1 for a scored\n",
    "        goal (goal or error) and 0 otherwise, \"index\" which is the index of the\n",
    "        kick in the match kick list, and all the other features needed for\n",
    "        prediction and explanation.\n",
    "    \"\"\"\n",
    "    for i, kick in enumerate(match[\"kicks\"]):\n",
    "        gp = get_opposing_goalpost(stadium, kick[\"fromTeam\"])\n",
    "        x = kick[\"fromX\"]\n",
    "        y = kick[\"fromY\"]\n",
    "        gx = gp[\"mid\"][\"x\"]\n",
    "        gy = gp[\"mid\"][\"y\"]\n",
    "        dist = stadium_distance(x, y, gx, gy)\n",
    "        angle = angle_from_goal(x, y, gx, gy)\n",
    "        closest_defender,defender_within = defender_feature(match,kick,100)\n",
    "        defenders_box = defender_box(match,stadium,kick)\n",
    "        row = {\n",
    "            \"ag\": 1 if is_scored_goal(kick) else 0,\n",
    "            \"index\": i,\n",
    "            \"time\": kick[\"time\"],\n",
    "            \"x\": x,\n",
    "            \"y\": y,\n",
    "            \"goal_x\": gx,\n",
    "            \"goal_y\": gy,\n",
    "            \"goal_distance\": dist,\n",
    "            \"goal_angle\": angle,\n",
    "            \"team\": kick[\"fromTeam\"],\n",
    "            \"stadium\": match[\"stadium\"],\n",
    "            \"closest_defender\": closest_defender,\n",
    "            \"defender_within\": defender_within,\n",
    "            \"defenders_box\": defenders_box\n",
    "        }\n",
    "        yield row"
   ]
  },
  {
   "cell_type": "markdown",
   "metadata": {},
   "source": [
    "Then, we write one more method to handle efficiently reading the full, inflated match data. This method takes as a callback the `generate_rows_demo(match, stadium)` method. It also has a handy progress bar using the `tqdm` library."
   ]
  },
  {
   "cell_type": "code",
   "execution_count": 61,
   "metadata": {},
   "outputs": [],
   "source": [
    "def make_df(metadata, callback, progress=False):\n",
    "    \"\"\"\n",
    "    Transforms match metadata into a DataFrame of records for\n",
    "    each kick, including target label and features.\n",
    "    Args:\n",
    "        metadata: Match metadata (list of dicts).\n",
    "        callback: Method to run on each match to extract kicks.\n",
    "        progress: Whether or not to show progress bar (boolean).\n",
    "    Returns:\n",
    "        DataFrame where each row is a kick record.\n",
    "    \"\"\"\n",
    "    rows = []\n",
    "    bar = tqdm(metadata) if progress else metadata\n",
    "    for meta in bar:\n",
    "        key = meta[\"match_id\"]\n",
    "        infile = \"../data/packed_matches/{}.json\".format(key)\n",
    "        try:\n",
    "            s = stadiums[meta[\"stadium\"]]\n",
    "            row_gen = load_match(infile, lambda m: callback(m, s))\n",
    "            for row in row_gen:\n",
    "                row[\"match\"] = key\n",
    "                rows.append(row)\n",
    "        except FileNotFoundError:\n",
    "            pass\n",
    "    return pd.DataFrame(rows)"
   ]
  },
  {
   "cell_type": "code",
   "execution_count": 62,
   "metadata": {},
   "outputs": [
    {
     "name": "stderr",
     "output_type": "stream",
     "text": [
      "100%|██████████| 394/394 [00:27<00:00, 14.33it/s]\n",
      "100%|██████████| 393/393 [00:28<00:00, 13.85it/s]\n"
     ]
    }
   ],
   "source": [
    "d_train = make_df(train, generate_rows_demo, progress=True)\n",
    "d_test = make_df(test, generate_rows_demo, progress=True)"
   ]
  },
  {
   "cell_type": "markdown",
   "metadata": {},
   "source": [
    "## Evaluate Model\n",
    "\n",
    "Now we can use scikit-learn to train and evaluate a demo model. We will use a logistic regression classifier. It will take in the two features we extraced (goal distance and goal angle) and predict an XG value in the range of [0, 1].\n",
    "\n",
    "Normally, if a binary classifier outputs a predicted probability greater than 0.5, the predicted label will be true. However, we know that a very small fraction of kicks results in goals, so we may choose an even higher threshold.\n",
    "\n",
    "For this imbalanced prediction task, accuracy will not be a very useful metric. Precision and recall are helpful, but they focus on binary labels. For XG, we want to calibrate the predicted probability so that higher quality opportunities have higher values, even if they don't result in scored goals.\n",
    "\n",
    "What metrics and techniques can we use to evaluate whether our XG models are fit for the task?"
   ]
  },
  {
   "cell_type": "code",
   "execution_count": 63,
   "metadata": {},
   "outputs": [],
   "source": [
    "from sklearn.linear_model import LogisticRegression\n",
    "from sklearn.metrics import (\n",
    "    accuracy_score,\n",
    "    precision_score,\n",
    "    recall_score,\n",
    "    roc_auc_score\n",
    ")"
   ]
  },
  {
   "cell_type": "code",
   "execution_count": 120,
   "metadata": {},
   "outputs": [],
   "source": [
    "def summarize_model(yt, yp):\n",
    "    \"\"\"\n",
    "    Helper method to summarize some prediction metrics.\n",
    "    Args:\n",
    "        yt: Array of true scored goal values.\n",
    "        yp: Array of predicted scored goal values.\n",
    "    \"\"\"\n",
    "    print(\"Accuracy = {:.3f}\".format(accuracy_score(yt, yp)))\n",
    "    print(\"Precision = {:.3f}\".format(precision_score(yt, yp)))\n",
    "    print(\"Recall    = {:.3f}\".format(recall_score(yt, yp)))\n",
    "    print(\"ROC AUC   = {:.3f}\".format(roc_auc_score(yt, yp)))\n",
    "    \n",
    "    #when comparing values\n",
    "    #precision = precision_score(yt, yp)\n",
    "    #roc = roc_auc_score(yt, yp)\n",
    "    #return precision,roc"
   ]
  },
  {
   "cell_type": "code",
   "execution_count": 121,
   "metadata": {},
   "outputs": [
    {
     "data": {
      "text/plain": [
       "LogisticRegression(random_state=0)"
      ]
     },
     "execution_count": 121,
     "metadata": {},
     "output_type": "execute_result"
    }
   ],
   "source": [
    "features = [\"closest_defender\",\"goal_distance\",\"goal_angle\"]\n",
    "X_train = d_train[features]\n",
    "y_train = d_train[\"ag\"]\n",
    "X_test = d_test[features]\n",
    "y_test = d_test[\"ag\"]\n",
    "clf = LogisticRegression(random_state=0)\n",
    "clf.fit(X_train, y_train)"
   ]
  },
  {
   "cell_type": "code",
   "execution_count": 125,
   "metadata": {},
   "outputs": [],
   "source": [
    "def model_features(features,classifier,kwargs):\n",
    "    X_train = d_train[features]\n",
    "    y_train = d_train[\"ag\"]\n",
    "    X_test = d_test[features]\n",
    "    y_test = d_test[\"ag\"]\n",
    "    clf = classifier(**kwargs)\n",
    "    clf.fit(X_train, y_train)\n",
    "    #print(\"Train Scores:\")\n",
    "    #summarize_model(y_train, clf.predict(X_train))\n",
    "    #print()\n",
    "    print(\"Test Scores:\")\n",
    "    summarize_model(y_test, clf.predict(X_test))\n",
    "    return clf"
   ]
  },
  {
   "cell_type": "code",
   "execution_count": 126,
   "metadata": {},
   "outputs": [
    {
     "name": "stdout",
     "output_type": "stream",
     "text": [
      "Test Scores:\n",
      "Accuracy = 0.965\n",
      "Precision = 0.488\n",
      "Recall    = 0.018\n",
      "ROC AUC   = 0.509\n"
     ]
    },
    {
     "data": {
      "text/plain": [
       "LogisticRegression(random_state=0)"
      ]
     },
     "execution_count": 126,
     "metadata": {},
     "output_type": "execute_result"
    }
   ],
   "source": [
    "features = [\"closest_defender\",\"defender_within\",\"goal_distance\",\"goal_angle\",\"defenders_box\"]\n",
    "clf = model_features(features, LogisticRegression, {\"random_state\": 0})\n",
    "clf"
   ]
  },
  {
   "cell_type": "code",
   "execution_count": 127,
   "metadata": {},
   "outputs": [
    {
     "name": "stdout",
     "output_type": "stream",
     "text": [
      "Test Scores:\n",
      "Accuracy = 0.966\n",
      "Precision = 0.500\n",
      "Recall    = 0.001\n",
      "ROC AUC   = 0.500\n"
     ]
    },
    {
     "data": {
      "text/plain": [
       "LogisticRegression(random_state=0)"
      ]
     },
     "execution_count": 127,
     "metadata": {},
     "output_type": "execute_result"
    }
   ],
   "source": [
    "features = [\"closest_defender\",\"defender_within\",\"goal_distance\"]\n",
    "clf = model_features(features, LogisticRegression, {\"random_state\": 0})\n",
    "clf"
   ]
  },
  {
   "cell_type": "code",
   "execution_count": 128,
   "metadata": {},
   "outputs": [],
   "source": [
    "from itertools import chain, combinations\n",
    "\n",
    "features = [\"closest_defender\",\"defender_within\",\"goal_distance\",\"goal_angle\",\"defenders_box\"]\n",
    "\n",
    "def powerset(iterable):\n",
    "    s = list(iterable)\n",
    "    return chain.from_iterable(combinations(s, r) for r in range(3,len(s)+1))\n",
    "\n",
    "results = list(powerset(features))\n",
    "max_pre = 0\n",
    "max_roc = 0\n",
    "for res in results:\n",
    "    feat = list(res)\n",
    "    #clf = model_features(feat, GradientBoostingClassifier, {\"n_estimators\":100, \"learning_rate\":1.0,\"max_depth\":1, \"random_state\":0})\n",
    "\n",
    "    # easy way to check all combinations\n",
    "    # with distance within set to 100, the best model based on precision is all 4 feature\n",
    "    # ['goal_distance', 'goal_angle', 'defenders_box']\n",
    "    #['closest_defender', 'defender_within', 'goal_distance', 'goal_angle', 'defenders_box']"
   ]
  },
  {
   "cell_type": "code",
   "execution_count": 89,
   "metadata": {},
   "outputs": [
    {
     "name": "stdout",
     "output_type": "stream",
     "text": [
      "Test Scores:\n",
      "Precision = 0.447\n",
      "ROC AUC   = 0.522\n"
     ]
    },
    {
     "data": {
      "text/plain": [
       "KNeighborsClassifier(n_neighbors=4)"
      ]
     },
     "execution_count": 89,
     "metadata": {},
     "output_type": "execute_result"
    }
   ],
   "source": [
    "from sklearn.neighbors import KNeighborsClassifier\n",
    "features = [\"closest_defender\",\"defender_within\",\"goal_distance\",\"goal_angle\",\"defenders_box\"]\n",
    "clf = model_features(features, KNeighborsClassifier, {\"n_neighbors\": 4})\n",
    "clf"
   ]
  },
  {
   "cell_type": "code",
   "execution_count": 94,
   "metadata": {},
   "outputs": [
    {
     "name": "stdout",
     "output_type": "stream",
     "text": [
      "Test Scores:\n",
      "Precision = 0.330\n",
      "ROC AUC   = 0.556\n"
     ]
    },
    {
     "name": "stderr",
     "output_type": "stream",
     "text": [
      "/home/ezfire/.local/lib/python3.8/site-packages/sklearn/linear_model/_stochastic_gradient.py:574: ConvergenceWarning: Maximum number of iteration reached before convergence. Consider increasing max_iter to improve the fit.\n",
      "  warnings.warn(\"Maximum number of iteration reached before \"\n"
     ]
    },
    {
     "data": {
      "text/plain": [
       "SGDClassifier(max_iter=25)"
      ]
     },
     "execution_count": 94,
     "metadata": {},
     "output_type": "execute_result"
    }
   ],
   "source": [
    "from sklearn.linear_model import SGDClassifier\n",
    "features = [\"closest_defender\",\"defender_within\",\"goal_distance\",\"goal_angle\",\"defenders_box\"]\n",
    "clf = model_features(features, SGDClassifier, {\"loss\": \"hinge\", \"penalty\":\"l2\", \"max_iter\":25})\n",
    "clf"
   ]
  },
  {
   "cell_type": "code",
   "execution_count": 129,
   "metadata": {},
   "outputs": [
    {
     "name": "stdout",
     "output_type": "stream",
     "text": [
      "Test Scores:\n",
      "Accuracy = 0.966\n",
      "Precision = 0.564\n",
      "Recall    = 0.056\n",
      "ROC AUC   = 0.527\n"
     ]
    },
    {
     "data": {
      "text/plain": [
       "GradientBoostingClassifier(learning_rate=1.0, max_depth=1, random_state=0)"
      ]
     },
     "execution_count": 129,
     "metadata": {},
     "output_type": "execute_result"
    }
   ],
   "source": [
    "from sklearn.ensemble import GradientBoostingClassifier\n",
    "features = [\"closest_defender\",\"defender_within\",\"goal_distance\",\"goal_angle\",\"defenders_box\"]\n",
    "clf = model_features(features, GradientBoostingClassifier, {\"n_estimators\":100, \"learning_rate\":1.0,\"max_depth\":1, \"random_state\":0})\n",
    "clf"
   ]
  },
  {
   "cell_type": "code",
   "execution_count": 130,
   "metadata": {},
   "outputs": [
    {
     "name": "stdout",
     "output_type": "stream",
     "text": [
      "Test Scores:\n",
      "Accuracy = 0.966\n",
      "Precision = 0.602\n",
      "Recall    = 0.048\n",
      "ROC AUC   = 0.523\n"
     ]
    },
    {
     "data": {
      "text/plain": [
       "GradientBoostingClassifier(learning_rate=1.0, max_depth=1, random_state=0)"
      ]
     },
     "execution_count": 130,
     "metadata": {},
     "output_type": "execute_result"
    }
   ],
   "source": [
    "from sklearn.ensemble import GradientBoostingClassifier\n",
    "features = [\"goal_distance\",\"goal_angle\",\"defenders_box\"]\n",
    "clf = model_features(features, GradientBoostingClassifier, {\"n_estimators\":100, \"learning_rate\":1.0,\"max_depth\":1, \"random_state\":0})\n",
    "clf"
   ]
  },
  {
   "cell_type": "markdown",
   "metadata": {},
   "source": [
    "While traditional evaluation metrics focus on the record-level, we also want to aggregate the XG scores to the match level and compare the actual scored goals to our XG for each team.\n",
    "\n",
    "We could also aggregate XG by player, or compare offensive XG to allowed goals for defensive analysis."
   ]
  },
  {
   "cell_type": "code",
   "execution_count": 131,
   "metadata": {},
   "outputs": [
    {
     "data": {
      "text/html": [
       "<div>\n",
       "<style scoped>\n",
       "    .dataframe tbody tr th:only-of-type {\n",
       "        vertical-align: middle;\n",
       "    }\n",
       "\n",
       "    .dataframe tbody tr th {\n",
       "        vertical-align: top;\n",
       "    }\n",
       "\n",
       "    .dataframe thead th {\n",
       "        text-align: right;\n",
       "    }\n",
       "</style>\n",
       "<table border=\"1\" class=\"dataframe\">\n",
       "  <thead>\n",
       "    <tr style=\"text-align: right;\">\n",
       "      <th></th>\n",
       "      <th></th>\n",
       "      <th>ag</th>\n",
       "      <th>xg</th>\n",
       "    </tr>\n",
       "    <tr>\n",
       "      <th>match</th>\n",
       "      <th>team</th>\n",
       "      <th></th>\n",
       "      <th></th>\n",
       "    </tr>\n",
       "  </thead>\n",
       "  <tbody>\n",
       "    <tr>\n",
       "      <th rowspan=\"2\" valign=\"top\">-MOTVkwbfE_IKa15MVn9</th>\n",
       "      <th>blue</th>\n",
       "      <td>1</td>\n",
       "      <td>0.174912</td>\n",
       "    </tr>\n",
       "    <tr>\n",
       "      <th>red</th>\n",
       "      <td>2</td>\n",
       "      <td>0.483423</td>\n",
       "    </tr>\n",
       "    <tr>\n",
       "      <th>-MOy-f6_nveB6alhv7BD</th>\n",
       "      <th>red</th>\n",
       "      <td>1</td>\n",
       "      <td>0.098711</td>\n",
       "    </tr>\n",
       "    <tr>\n",
       "      <th>-MOy0mtEf9VvJLYeb9g_</th>\n",
       "      <th>red</th>\n",
       "      <td>1</td>\n",
       "      <td>0.050504</td>\n",
       "    </tr>\n",
       "    <tr>\n",
       "      <th>-MOy1YNMaXX-VaR3ROtD</th>\n",
       "      <th>red</th>\n",
       "      <td>1</td>\n",
       "      <td>0.038484</td>\n",
       "    </tr>\n",
       "    <tr>\n",
       "      <th rowspan=\"2\" valign=\"top\">-MOy_8TXdyiIYo9ty5Zu</th>\n",
       "      <th>blue</th>\n",
       "      <td>0</td>\n",
       "      <td>0.696178</td>\n",
       "    </tr>\n",
       "    <tr>\n",
       "      <th>red</th>\n",
       "      <td>2</td>\n",
       "      <td>3.585762</td>\n",
       "    </tr>\n",
       "    <tr>\n",
       "      <th rowspan=\"2\" valign=\"top\">-MOy_aJlP-DUs6MyaR1N</th>\n",
       "      <th>blue</th>\n",
       "      <td>2</td>\n",
       "      <td>0.384838</td>\n",
       "    </tr>\n",
       "    <tr>\n",
       "      <th>red</th>\n",
       "      <td>3</td>\n",
       "      <td>2.367942</td>\n",
       "    </tr>\n",
       "    <tr>\n",
       "      <th>-MOybwFHeoLse3Kyjf3h</th>\n",
       "      <th>red</th>\n",
       "      <td>1</td>\n",
       "      <td>0.038484</td>\n",
       "    </tr>\n",
       "  </tbody>\n",
       "</table>\n",
       "</div>"
      ],
      "text/plain": [
       "                           ag        xg\n",
       "match                team              \n",
       "-MOTVkwbfE_IKa15MVn9 blue   1  0.174912\n",
       "                     red    2  0.483423\n",
       "-MOy-f6_nveB6alhv7BD red    1  0.098711\n",
       "-MOy0mtEf9VvJLYeb9g_ red    1  0.050504\n",
       "-MOy1YNMaXX-VaR3ROtD red    1  0.038484\n",
       "-MOy_8TXdyiIYo9ty5Zu blue   0  0.696178\n",
       "                     red    2  3.585762\n",
       "-MOy_aJlP-DUs6MyaR1N blue   2  0.384838\n",
       "                     red    3  2.367942\n",
       "-MOybwFHeoLse3Kyjf3h red    1  0.038484"
      ]
     },
     "execution_count": 131,
     "metadata": {},
     "output_type": "execute_result"
    }
   ],
   "source": [
    "p_test = clf.predict_proba(X_test)[:,1]\n",
    "df_results = pd.DataFrame(d_test)\n",
    "df_results[\"xg\"] = p_test\n",
    "df_results.groupby([\"match\", \"team\"])[[\"ag\", \"xg\"]].sum().head(10)"
   ]
  },
  {
   "cell_type": "markdown",
   "metadata": {},
   "source": [
    "## Save Model\n",
    "\n",
    "This demo model is unrefined, and by the measures we briefly looked at, it's not good. Still, it gives us a place to start from.\n",
    "\n",
    "We can use `joblib` to save this model. We will commit this model to our repository. If you have in-progress models, write those to a folder you have gitignored to avoid committing them.\n",
    "\n",
    "We can now use this model in our server to produce on-demand predictions for new matches. The helper function `predict_xg(match, stadium, clf)` takes the new match, the stadium data, and our stored classifier and then augments the match response with XG predictions.\n",
    "\n",
    "We will also save the new methods we wrote in this notebook so we can use them in our server as well. Common utility functions will go in `haxml/utils.py` and data preparation and prediction functions will go in `haxml/prediction.py`."
   ]
  },
  {
   "cell_type": "code",
   "execution_count": null,
   "metadata": {},
   "outputs": [],
   "source": [
    "import joblib\n",
    "\n",
    "joblib.dump(clf, \"../models/demo_logistic_regression.pkl\")"
   ]
  },
  {
   "cell_type": "code",
   "execution_count": null,
   "metadata": {},
   "outputs": [],
   "source": [
    "def predict_xg_demo(match, stadium, generate_rows, clf):\n",
    "    \"\"\"\n",
    "    Augments match data with XG predictions.\n",
    "    Args:\n",
    "        match: Inflated match data (dict).\n",
    "        stadium: Stadium data (dict).\n",
    "        generate_rows: function(match, stadium) to generate kick records.\n",
    "        clf: Classifier following scikit-learn interface.\n",
    "    Returns:\n",
    "        Inflated match data with \"xg\" field added to each kick (dict).\n",
    "    \"\"\"\n",
    "    features = [\"goal_distance\", \"goal_angle\"]\n",
    "    d_kicks = pd.DataFrame(generate_rows(match, stadium))\n",
    "    d_kicks[\"xg\"] = clf.predict_proba(d_kicks[features])[:,1]\n",
    "    for kick in d_kicks.to_dict(orient=\"records\"):\n",
    "        match[\"kicks\"][kick[\"index\"]][\"xg\"] = kick[\"xg\"]\n",
    "    return match"
   ]
  },
  {
   "cell_type": "code",
   "execution_count": null,
   "metadata": {},
   "outputs": [],
   "source": [
    "test_meta = test[45]\n",
    "s = stadiums[test_meta[\"stadium\"]]\n",
    "demo_clf = joblib.load(\"../models/demo_logistic_regression.pkl\")\n",
    "test_match = load_match(\n",
    "    \"../data/packed_matches/{}.json\".format(test_meta[\"match_id\"]),\n",
    "    lambda m: predict_xg_demo(m, s, generate_rows_demo, demo_clf)\n",
    ")\n",
    "test_meta"
   ]
  },
  {
   "cell_type": "code",
   "execution_count": null,
   "metadata": {},
   "outputs": [],
   "source": [
    "pd.DataFrame(test_match[\"kicks\"]).query(\"type == 'goal'\").head()"
   ]
  },
  {
   "cell_type": "code",
   "execution_count": null,
   "metadata": {},
   "outputs": [],
   "source": []
  }
 ],
 "metadata": {
  "kernelspec": {
   "display_name": "Python 3",
   "language": "python",
   "name": "python3"
  },
  "language_info": {
   "codemirror_mode": {
    "name": "ipython",
    "version": 3
   },
   "file_extension": ".py",
   "mimetype": "text/x-python",
   "name": "python",
   "nbconvert_exporter": "python",
   "pygments_lexer": "ipython3",
   "version": "3.7.6"
  },
  "varInspector": {
   "cols": {
    "lenName": 16,
    "lenType": 16,
    "lenVar": 40
   },
   "kernels_config": {
    "python": {
     "delete_cmd_postfix": "",
     "delete_cmd_prefix": "del ",
     "library": "var_list.py",
     "varRefreshCmd": "print(var_dic_list())"
    },
    "r": {
     "delete_cmd_postfix": ") ",
     "delete_cmd_prefix": "rm(",
     "library": "var_list.r",
     "varRefreshCmd": "cat(var_dic_list()) "
    }
   },
   "types_to_exclude": [
    "module",
    "function",
    "builtin_function_or_method",
    "instance",
    "_Feature"
   ],
   "window_display": false
  }
 },
 "nbformat": 4,
 "nbformat_minor": 4
}
