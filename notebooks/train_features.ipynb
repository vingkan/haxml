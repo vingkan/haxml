{
 "cells": [
  {
   "cell_type": "markdown",
   "metadata": {},
   "source": [
    "# Train Demo Model\n",
    "\n",
    "This notebook shows an example of how to train, evaluate, and save a model to predicted expected goals from match and stadium data."
   ]
  },
  {
   "cell_type": "code",
   "execution_count": 1,
   "metadata": {},
   "outputs": [],
   "source": [
    "%matplotlib inline"
   ]
  },
  {
   "cell_type": "code",
   "execution_count": 2,
   "metadata": {},
   "outputs": [],
   "source": [
    "import sys\n",
    "sys.path.append(\"../\")\n",
    "\n",
    "from haxml.utils import (\n",
    "    get_matches_metadata,\n",
    "    get_stadiums,\n",
    "    get_opposing_goalpost,\n",
    "    load_match,\n",
    "    is_target_stadium,\n",
    "    is_scored_goal,\n",
    "    total_scored_goals,\n",
    "    total_kicks,\n",
    "    goal_fraction,\n",
    "    stadium_distance,\n",
    "    angle_from_goal,\n",
    "    train_test_split_matches_even_count\n",
    ")\n",
    "\n",
    "from haxml.viz import (\n",
    "    plot_positions\n",
    ")\n",
    "\n",
    "import math\n",
    "import matplotlib.pyplot as plt\n",
    "import pandas as pd\n",
    "from tqdm import tqdm"
   ]
  },
  {
   "cell_type": "markdown",
   "metadata": {},
   "source": [
    "## Split Train/Test Data\n",
    "\n",
    "Choosing a train/test split is an important aspect of training ML models.\n",
    "\n",
    "- We want to have enough data to train and test our model.\n",
    "- We want both splits to be representative of what the model will encounter in production.\n",
    "- We want the target variable to have similar frequency in both the train and test data.\n",
    "- We do not want to leak information about the test data into the train data.\n",
    "\n",
    "Read, execute, and understand how we make this train/test split in the cells below. What are some things that are good and bad about how we are splitting the data?"
   ]
  },
  {
   "cell_type": "code",
   "execution_count": 3,
   "metadata": {},
   "outputs": [],
   "source": [
    "stadiums = get_stadiums(\"../data/stadiums.json\")\n",
    "metadata = get_matches_metadata(\"../data/matches_metadata.csv\")"
   ]
  },
  {
   "cell_type": "markdown",
   "metadata": {},
   "source": [
    "The full, inflated match records contain the players' positional data, which can become quite large if we load them all at once. To be more efficient with memory, we have a file of match metadata records, providing us basic information that we can use to split train/test data and to evaluate models, without loading the full match data.\n",
    "\n",
    "The memory savings allow us to do this analysis from the comfort of a Jupyter notebook without needing much more computing power.\n",
    "\n",
    "Check out an example of the metadata for one match. Note that \"scored goals\" can differ from the actual score. We don't consider own-goals as scored goals (only errors, which are shots from an offensive player that deflect off of defenders), since the offense did not directly produce them.\n",
    "\n",
    "We will build a model to predict offensive XG. But XG is also used as a defensive metric. Own goals are one reason a defense may give up more goals than XG predicts."
   ]
  },
  {
   "cell_type": "code",
   "execution_count": 4,
   "metadata": {},
   "outputs": [
    {
     "data": {
      "text/plain": [
       "{'match_id': '-MPG8aVg406bTT1daesR',\n",
       " 'stadium': 'NAFL 1v1/2v2 Map v1',\n",
       " 'time': 106.8,\n",
       " 'kicks_red': 21,\n",
       " 'kicks_blue': 30,\n",
       " 'score_red': 3,\n",
       " 'score_blue': 2,\n",
       " 'scored_goals_red': 2,\n",
       " 'scored_goals_blue': 2}"
      ]
     },
     "execution_count": 4,
     "metadata": {},
     "output_type": "execute_result"
    }
   ],
   "source": [
    "metadata[26]"
   ]
  },
  {
   "cell_type": "markdown",
   "metadata": {},
   "source": [
    "Our `haxml.utils` module has one method for split matches into train and test data. You can check the docstring of a method by calling `help()`. Let's see what this one does."
   ]
  },
  {
   "cell_type": "code",
   "execution_count": 5,
   "metadata": {},
   "outputs": [
    {
     "name": "stdout",
     "output_type": "stream",
     "text": [
      "Help on function train_test_split_matches_even_count in module haxml.utils:\n",
      "\n",
      "train_test_split_matches_even_count(metadata)\n",
      "    Evenly splits matches into train and test lists of almost the same size.\n",
      "    Matches are sorted by number of scored goals, in an attempt to evenly\n",
      "    distribute scored goals between the two lists.\n",
      "    Args:\n",
      "        metadata: List of dicts with IDs and metadata for each match, to split\n",
      "            into train and test lists.\n",
      "    Returns:\n",
      "        (train, test): Tuple containing match IDs for train and test splits\n",
      "            (lists of strings).\n",
      "\n"
     ]
    }
   ],
   "source": [
    "help(train_test_split_matches_even_count)"
   ]
  },
  {
   "cell_type": "code",
   "execution_count": 6,
   "metadata": {},
   "outputs": [],
   "source": [
    "train, test = train_test_split_matches_even_count(metadata)"
   ]
  },
  {
   "cell_type": "code",
   "execution_count": 7,
   "metadata": {},
   "outputs": [],
   "source": [
    "def summarize_split(metadata):\n",
    "    \"\"\"\n",
    "    Helper method to summarize a train/test split.\n",
    "    Args:\n",
    "        metadata: Match metadata for one split (list of dicts).\n",
    "    \"\"\"\n",
    "    goals = sum(total_scored_goals(m) for m in metadata)\n",
    "    kicks = sum(total_kicks(m) for m in metadata)\n",
    "    frac = goal_fraction(goals, kicks)\n",
    "    print(\"Matches: {:,}\".format(len(metadata)))\n",
    "    print(\"Goals: {:,}\".format(goals))\n",
    "    print(\"Kicks: {:,}\".format(kicks))\n",
    "    print(\"E(XG): {:.3f}\".format(frac))"
   ]
  },
  {
   "cell_type": "code",
   "execution_count": 8,
   "metadata": {},
   "outputs": [
    {
     "name": "stdout",
     "output_type": "stream",
     "text": [
      "Train Data:\n",
      "Matches: 394\n",
      "Goals: 1,119\n",
      "Kicks: 32,595\n",
      "E(XG): 0.034\n",
      "\n",
      "Test Data:\n",
      "Matches: 393\n",
      "Goals: 1,111\n",
      "Kicks: 32,190\n",
      "E(XG): 0.035\n"
     ]
    }
   ],
   "source": [
    "print(\"Train Data:\")\n",
    "summarize_split(train)\n",
    "print()\n",
    "print(\"Test Data:\")\n",
    "summarize_split(test)"
   ]
  },
  {
   "cell_type": "markdown",
   "metadata": {},
   "source": [
    "## Extract Features\n",
    "\n",
    "To make predictions, our model needs some input features. Since we have kicks from different stadiums, we can't use the position where the ball was kicked from on its own.\n",
    "\n",
    "In this demo, we will use some methods from `haxml.utils` to transform the basic kickdata into features that may help predict XG:\n",
    "\n",
    "- `get_opposing_goalpost(stadium, team)`\n",
    "- `stadium_distance(x1, y1, x2, y2)`\n",
    "- `angle_from_goal(x, y, gx, gy)`\n",
    "\n",
    "You can call `help()` to read their docstrings, or check the source code in `haxml/utils.py`.\n",
    "\n",
    "We combine the above methods into a new method:"
   ]
  },
  {
   "cell_type": "code",
   "execution_count": 9,
   "metadata": {},
   "outputs": [],
   "source": [
    "def get_positions_at_time(positions, t):\n",
    "    \"\"\"\n",
    "    Return a list of positions (dicts) closest to, but before time t.\n",
    "    \"\"\"\n",
    "    # Assume positions list is already sorted.\n",
    "    # frame is a list of positions (dicts) that have the same timestamp.\n",
    "    frame = []\n",
    "    time = 0.0\n",
    "    for pos in positions:\n",
    "        if pos[\"time\"] > t:\n",
    "            break\n",
    "        if pos[\"time\"] == time:\n",
    "            frame.append(pos)\n",
    "        else:\n",
    "            frame = []\n",
    "            time = pos[\"time\"]\n",
    "    return frame"
   ]
  },
  {
   "cell_type": "code",
   "execution_count": 10,
   "metadata": {},
   "outputs": [],
   "source": [
    "def defender_feature(match,kick,dist):\n",
    "    \"\"\"\n",
    "    For a given kick, find the closests defender and the number of defenders within 200 dist\n",
    "    \"\"\"\n",
    "    positions = get_positions_at_time(match[\"positions\"], kick[\"time\"])\n",
    "    ret = [0,0]\n",
    "    closest_defender = float('inf')\n",
    "    defenders_pressuring = 0\n",
    "    for person in positions:\n",
    "        if person['team'] is not kick['fromTeam'] and person['type'] == \"player\": \n",
    "            defender_dist = ((kick['fromX'] - person['x'])**2 + (kick['fromY'] - person['y'])**2)**(1/2) # distance formula\n",
    "            if defender_dist < closest_defender:\n",
    "                closest_defender = defender_dist\n",
    "                ret[0] = closest_defender\n",
    "            if defender_dist <= dist:\n",
    "                defenders_pressuring = defenders_pressuring + 1\n",
    "                ret[1] = defenders_pressuring\n",
    "    return ret"
   ]
  },
  {
   "cell_type": "code",
   "execution_count": 11,
   "metadata": {},
   "outputs": [],
   "source": [
    "def is_in_range(person,low,high,x_kick,goal_x):\n",
    "    is_x = False\n",
    "    is_y = False\n",
    "    if person['team'] == \"red\":\n",
    "        if(person['x']>=x_kick and person['x']<=goal_x):\n",
    "            is_x = True\n",
    "    else:\n",
    "        if(person['x']<=x_kick and person['x']>=goal_x):\n",
    "            is_x = True\n",
    "    \n",
    "    if(person['y']>=low and person['y']<=high):\n",
    "        is_y = True\n",
    "        \n",
    "    return is_x and is_y"
   ]
  },
  {
   "cell_type": "code",
   "execution_count": 12,
   "metadata": {},
   "outputs": [],
   "source": [
    "def shot_range_features(match,stadium,kick):\n",
    "    #is_there_players =\n",
    "    #height,width =\n",
    "    #area = \n",
    "    \n",
    "    count = 0\n",
    "    gp = get_opposing_goalpost(stadium,kick[\"fromTeam\"])\n",
    "    gp_y_high = max([p[\"y\"] for p in gp[\"posts\"]])\n",
    "    gp_y_low = min([p[\"y\"] for p in gp[\"posts\"]])\n",
    "    goal_x = gp[\"posts\"][0][\"x\"]\n",
    "    positions = get_positions_at_time(match[\"positions\"], kick[\"time\"])\n",
    "    fig,ax = plot_positions(positions,stadium)\n",
    "    ax.plot([goal_x,goal_x],[gp_y_low,gp_y_high],color=\"green\",linestyle = \"-\")\n",
    "    ax.plot([kick['fromX'],kick['fromX']],[gp_y_low,gp_y_high],color=\"green\",linestyle = \"-\")\n",
    "    print(positions)\n",
    "    for person in positions:\n",
    "        if person[\"type\"] == \"ball\":\n",
    "            continue\n",
    "        if is_in_range(person,gp_y_low,gp_y_high,kick['fromX'],goal_x):\n",
    "            count = count + 1\n",
    "    return fig,count"
   ]
  },
  {
   "cell_type": "code",
   "execution_count": 21,
   "metadata": {},
   "outputs": [
    {
     "name": "stdout",
     "output_type": "stream",
     "text": [
      "[{'type': 'player', 'time': 21.3, 'x': -97.0, 'y': 47.0, 'playerId': 96, 'name': 'Player 93', 'team': 'red'}, {'type': 'player', 'time': 21.3, 'x': -222.0, 'y': -18.0, 'playerId': 81, 'name': 'Player 180', 'team': 'red'}, {'type': 'player', 'time': 21.3, 'x': 6.0, 'y': -19.0, 'playerId': 82, 'name': 'Player 132', 'team': 'blue'}, {'type': 'player', 'time': 21.3, 'x': -64.0, 'y': 14.0, 'playerId': 100, 'name': 'Player 176', 'team': 'blue'}, {'type': 'player', 'time': 21.3, 'x': -414.0, 'y': -3.0, 'playerId': 97, 'name': 'Player 157', 'team': 'red'}, {'type': 'ball', 'time': 21.3, 'x': 0.0, 'y': 1.0, 'playerId': None, 'name': None, 'team': None}]\n",
      "0\n",
      "{'time': 21.3, 'type': 'goal', 'fromId': 96, 'fromX': 454.0, 'fromY': 7.0, 'fromName': 'Player 93', 'fromTeam': 'red', 'toId': None, 'toX': None, 'toY': None, 'toName': None, 'toTeam': None}\n"
     ]
    },
    {
     "data": {
      "image/png": "[encoded data removed]",
      "text/plain": [
       "<Figure size 720x432 with 1 Axes>"
      ]
     },
     "execution_count": 21,
     "metadata": {},
     "output_type": "execute_result"
    }
   ],
   "source": [
    "meta = metadata[231]\n",
    "key = meta[\"match_id\"]\n",
    "infile = \"../data/packed_matches/{}.json\".format(key)\n",
    "match = load_match(infile)\n",
    "stadium = stadiums[meta[\"stadium\"]]\n",
    "goals = list(filter(lambda k: k[\"type\"] == \"goal\",match[\"kicks\"]))\n",
    "fig,count = shot_range_features(match,stadium,goals[0])\n",
    "print(count)\n",
    "print(goals[0])\n",
    "fig.set_size_inches(10,6)\n",
    "fig "
   ]
  },
  {
   "cell_type": "code",
   "execution_count": null,
   "metadata": {},
   "outputs": [],
   "source": []
  },
  {
   "cell_type": "code",
   "execution_count": null,
   "metadata": {},
   "outputs": [],
   "source": [
    "stadium = stadiums[\"Classic\"]\n",
    "gp = get_opposing_goalpost(stadium, \"red\")\n",
    "gp"
   ]
  },
  {
   "cell_type": "code",
   "execution_count": null,
   "metadata": {},
   "outputs": [],
   "source": [
    "def generate_rows_demo(match, stadium):\n",
    "    \"\"\"\n",
    "    Generates target and features for each kick in the match.\n",
    "    Produces two features for demo classifiers:\n",
    "        goal_distance: Distance from where  ball was kicked to goal midpoint.\n",
    "        goal_angle: Angle (in radians) between straight shot from where ball was\n",
    "            kicked to goal midpoint.\n",
    "    Args:\n",
    "        match: Inflated match data (dict).\n",
    "        stadium: Stadium data (dict).\n",
    "    Returns:\n",
    "        Generator of dicts with values for each kick in the given match.\n",
    "        Includes prediction target \"ag\" (actual goals) which is 1 for a scored\n",
    "        goal (goal or error) and 0 otherwise, \"index\" which is the index of the\n",
    "        kick in the match kick list, and all the other features needed for\n",
    "        prediction and explanation.\n",
    "    \"\"\"\n",
    "    for i, kick in enumerate(match[\"kicks\"]):\n",
    "        gp = get_opposing_goalpost(stadium, kick[\"fromTeam\"])\n",
    "        x = kick[\"fromX\"]\n",
    "        y = kick[\"fromY\"]\n",
    "        gx = gp[\"mid\"][\"x\"]\n",
    "        gy = gp[\"mid\"][\"y\"]\n",
    "        dist = stadium_distance(x, y, gx, gy)\n",
    "        angle = angle_from_goal(x, y, gx, gy)\n",
    "        closest_defender,defender_within = defender_feature(match,kick,100)\n",
    "        row = {\n",
    "            \"ag\": 1 if is_scored_goal(kick) else 0,\n",
    "            \"index\": i,\n",
    "            \"time\": kick[\"time\"],\n",
    "            \"x\": x,\n",
    "            \"y\": y,\n",
    "            \"goal_x\": gx,\n",
    "            \"goal_y\": gy,\n",
    "            \"goal_distance\": dist,\n",
    "            \"goal_angle\": angle,\n",
    "            \"team\": kick[\"fromTeam\"],\n",
    "            \"stadium\": match[\"stadium\"],\n",
    "            \"closest_defender\": closest_defender,\n",
    "            \"defender_within\": defender_within\n",
    "        }\n",
    "        yield row"
   ]
  },
  {
   "cell_type": "markdown",
   "metadata": {},
   "source": [
    "Then, we write one more method to handle efficiently reading the full, inflated match data. This method takes as a callback the `generate_rows_demo(match, stadium)` method. It also has a handy progress bar using the `tqdm` library."
   ]
  },
  {
   "cell_type": "code",
   "execution_count": null,
   "metadata": {},
   "outputs": [],
   "source": [
    "def make_df(metadata, callback, progress=False):\n",
    "    \"\"\"\n",
    "    Transforms match metadata into a DataFrame of records for\n",
    "    each kick, including target label and features.\n",
    "    Args:\n",
    "        metadata: Match metadata (list of dicts).\n",
    "        callback: Method to run on each match to extract kicks.\n",
    "        progress: Whether or not to show progress bar (boolean).\n",
    "    Returns:\n",
    "        DataFrame where each row is a kick record.\n",
    "    \"\"\"\n",
    "    rows = []\n",
    "    bar = tqdm(metadata) if progress else metadata\n",
    "    for meta in bar:\n",
    "        key = meta[\"match_id\"]\n",
    "        infile = \"../data/packed_matches/{}.json\".format(key)\n",
    "        try:\n",
    "            s = stadiums[meta[\"stadium\"]]\n",
    "            row_gen = load_match(infile, lambda m: callback(m, s))\n",
    "            for row in row_gen:\n",
    "                row[\"match\"] = key\n",
    "                rows.append(row)\n",
    "        except FileNotFoundError:\n",
    "            pass\n",
    "    return pd.DataFrame(rows)"
   ]
  },
  {
   "cell_type": "code",
   "execution_count": null,
   "metadata": {},
   "outputs": [],
   "source": [
    "d_train = make_df(train, generate_rows_demo, progress=True)\n",
    "d_test = make_df(test, generate_rows_demo, progress=True)"
   ]
  },
  {
   "cell_type": "markdown",
   "metadata": {},
   "source": [
    "## Evaluate Model\n",
    "\n",
    "Now we can use scikit-learn to train and evaluate a demo model. We will use a logistic regression classifier. It will take in the two features we extraced (goal distance and goal angle) and predict an XG value in the range of [0, 1].\n",
    "\n",
    "Normally, if a binary classifier outputs a predicted probability greater than 0.5, the predicted label will be true. However, we know that a very small fraction of kicks results in goals, so we may choose an even higher threshold.\n",
    "\n",
    "For this imbalanced prediction task, accuracy will not be a very useful metric. Precision and recall are helpful, but they focus on binary labels. For XG, we want to calibrate the predicted probability so that higher quality opportunities have higher values, even if they don't result in scored goals.\n",
    "\n",
    "What metrics and techniques can we use to evaluate whether our XG models are fit for the task?"
   ]
  },
  {
   "cell_type": "code",
   "execution_count": null,
   "metadata": {},
   "outputs": [],
   "source": [
    "from sklearn.linear_model import LogisticRegression\n",
    "from sklearn.metrics import (\n",
    "    accuracy_score,\n",
    "    precision_score,\n",
    "    recall_score,\n",
    "    roc_auc_score\n",
    ")"
   ]
  },
  {
   "cell_type": "code",
   "execution_count": null,
   "metadata": {},
   "outputs": [],
   "source": [
    "def summarize_model(yt, yp):\n",
    "    \"\"\"\n",
    "    Helper method to summarize some prediction metrics.\n",
    "    Args:\n",
    "        yt: Array of true scored goal values.\n",
    "        yp: Array of predicted scored goal values.\n",
    "    \"\"\"\n",
    "    print(\"Accuracy = {:.3f}\".format(accuracy_score(yt, yp)))\n",
    "    print(\"Precision = {:.3f}\".format(precision_score(yt, yp)))\n",
    "    print(\"Recall    = {:.3f}\".format(recall_score(yt, yp)))\n",
    "    print(\"ROC AUC   = {:.3f}\".format(roc_auc_score(yt, yp)))"
   ]
  },
  {
   "cell_type": "code",
   "execution_count": null,
   "metadata": {},
   "outputs": [],
   "source": [
    "features = [\"closest_defender\",\"goal_distance\",\"goal_angle\"]\n",
    "X_train = d_train[features]\n",
    "y_train = d_train[\"ag\"]\n",
    "X_test = d_test[features]\n",
    "y_test = d_test[\"ag\"]\n",
    "clf = LogisticRegression(random_state=0)\n",
    "clf.fit(X_train, y_train)"
   ]
  },
  {
   "cell_type": "code",
   "execution_count": null,
   "metadata": {},
   "outputs": [],
   "source": [
    "def model_features(features,classifier,kwargs):\n",
    "    X_train = d_train[features]\n",
    "    y_train = d_train[\"ag\"]\n",
    "    X_test = d_test[features]\n",
    "    y_test = d_test[\"ag\"]\n",
    "    clf = classifier(**kwargs)\n",
    "    clf.fit(X_train, y_train)\n",
    "    #print(\"Train Scores:\")\n",
    "    #summarize_model(y_train, clf.predict(X_train))\n",
    "    #print()\n",
    "    print(\"Test Scores:\")\n",
    "    summarize_model(y_test, clf.predict(X_test))\n",
    "    return clf"
   ]
  },
  {
   "cell_type": "code",
   "execution_count": null,
   "metadata": {},
   "outputs": [],
   "source": [
    "features = [\"closest_defender\",\"defender_within\",\"goal_distance\",\"goal_angle\"]\n",
    "clf = model_features(features, LogisticRegression, {\"random_state\": 0})\n",
    "clf"
   ]
  },
  {
   "cell_type": "code",
   "execution_count": null,
   "metadata": {},
   "outputs": [],
   "source": [
    "from itertools import chain, combinations\n",
    "\n",
    "features = [\"closest_defender\",\"defender_within\",\"goal_distance\",\"goal_angle\"]\n",
    "\n",
    "def powerset(iterable):\n",
    "    s = list(iterable)\n",
    "    return chain.from_iterable(combinations(s, r) for r in range(2,len(s)+1))\n",
    "\n",
    "results = list(powerset(features))\n",
    "\n",
    "for res in results:\n",
    "    feat = list(res)\n",
    "    #print(feat)\n",
    "    #clf = model_features(feat, LogisticRegression, {\"random_state\": 0})\n",
    "    # easy way to check all combinations\n",
    "    # with distance within set to 100, the best model based on precision is all 4 features"
   ]
  },
  {
   "cell_type": "markdown",
   "metadata": {},
   "source": [
    "While traditional evaluation metrics focus on the record-level, we also want to aggregate the XG scores to the match level and compare the actual scored goals to our XG for each team.\n",
    "\n",
    "We could also aggregate XG by player, or compare offensive XG to allowed goals for defensive analysis."
   ]
  },
  {
   "cell_type": "code",
   "execution_count": null,
   "metadata": {},
   "outputs": [],
   "source": [
    "p_test = clf.predict_proba(X_test)[:,1]\n",
    "df_results = pd.DataFrame(d_test)\n",
    "df_results[\"xg\"] = p_test\n",
    "df_results.groupby([\"match\", \"team\"])[[\"ag\", \"xg\"]].sum().head(10)"
   ]
  },
  {
   "cell_type": "markdown",
   "metadata": {},
   "source": [
    "## Save Model\n",
    "\n",
    "This demo model is unrefined, and by the measures we briefly looked at, it's not good. Still, it gives us a place to start from.\n",
    "\n",
    "We can use `joblib` to save this model. We will commit this model to our repository. If you have in-progress models, write those to a folder you have gitignored to avoid committing them.\n",
    "\n",
    "We can now use this model in our server to produce on-demand predictions for new matches. The helper function `predict_xg(match, stadium, clf)` takes the new match, the stadium data, and our stored classifier and then augments the match response with XG predictions.\n",
    "\n",
    "We will also save the new methods we wrote in this notebook so we can use them in our server as well. Common utility functions will go in `haxml/utils.py` and data preparation and prediction functions will go in `haxml/prediction.py`."
   ]
  },
  {
   "cell_type": "code",
   "execution_count": null,
   "metadata": {},
   "outputs": [],
   "source": [
    "import joblib\n",
    "\n",
    "joblib.dump(clf, \"../models/demo_logistic_regression.pkl\")"
   ]
  },
  {
   "cell_type": "code",
   "execution_count": null,
   "metadata": {},
   "outputs": [],
   "source": [
    "def predict_xg_demo(match, stadium, generate_rows, clf):\n",
    "    \"\"\"\n",
    "    Augments match data with XG predictions.\n",
    "    Args:\n",
    "        match: Inflated match data (dict).\n",
    "        stadium: Stadium data (dict).\n",
    "        generate_rows: function(match, stadium) to generate kick records.\n",
    "        clf: Classifier following scikit-learn interface.\n",
    "    Returns:\n",
    "        Inflated match data with \"xg\" field added to each kick (dict).\n",
    "    \"\"\"\n",
    "    features = [\"goal_distance\", \"goal_angle\"]\n",
    "    d_kicks = pd.DataFrame(generate_rows(match, stadium))\n",
    "    d_kicks[\"xg\"] = clf.predict_proba(d_kicks[features])[:,1]\n",
    "    for kick in d_kicks.to_dict(orient=\"records\"):\n",
    "        match[\"kicks\"][kick[\"index\"]][\"xg\"] = kick[\"xg\"]\n",
    "    return match"
   ]
  },
  {
   "cell_type": "code",
   "execution_count": null,
   "metadata": {},
   "outputs": [],
   "source": [
    "test_meta = test[45]\n",
    "s = stadiums[test_meta[\"stadium\"]]\n",
    "demo_clf = joblib.load(\"../models/demo_logistic_regression.pkl\")\n",
    "test_match = load_match(\n",
    "    \"../data/packed_matches/{}.json\".format(test_meta[\"match_id\"]),\n",
    "    lambda m: predict_xg_demo(m, s, generate_rows_demo, demo_clf)\n",
    ")\n",
    "test_meta"
   ]
  },
  {
   "cell_type": "code",
   "execution_count": null,
   "metadata": {},
   "outputs": [],
   "source": [
    "pd.DataFrame(test_match[\"kicks\"]).query(\"type == 'goal'\").head()"
   ]
  },
  {
   "cell_type": "code",
   "execution_count": null,
   "metadata": {},
   "outputs": [],
   "source": []
  }
 ],
 "metadata": {
  "kernelspec": {
   "display_name": "Python 3",
   "language": "python",
   "name": "python3"
  },
  "language_info": {
   "codemirror_mode": {
    "name": "ipython",
    "version": 3
   },
   "file_extension": ".py",
   "mimetype": "text/x-python",
   "name": "python",
   "nbconvert_exporter": "python",
   "pygments_lexer": "ipython3",
   "version": "3.8.5"
  },
  "varInspector": {
   "cols": {
    "lenName": 16,
    "lenType": 16,
    "lenVar": 40
   },
   "kernels_config": {
    "python": {
     "delete_cmd_postfix": "",
     "delete_cmd_prefix": "del ",
     "library": "var_list.py",
     "varRefreshCmd": "print(var_dic_list())"
    },
    "r": {
     "delete_cmd_postfix": ") ",
     "delete_cmd_prefix": "rm(",
     "library": "var_list.r",
     "varRefreshCmd": "cat(var_dic_list()) "
    }
   },
   "types_to_exclude": [
    "module",
    "function",
    "builtin_function_or_method",
    "instance",
    "_Feature"
   ],
   "window_display": false
  }
 },
 "nbformat": 4,
 "nbformat_minor": 4
}
