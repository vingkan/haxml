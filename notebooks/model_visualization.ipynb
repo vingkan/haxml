{
 "cells": [
  {
   "cell_type": "markdown",
   "metadata": {},
   "source": [
    "# Model Visualization"
   ]
  },
  {
   "cell_type": "code",
   "execution_count": 1,
   "metadata": {},
   "outputs": [],
   "source": [
    "from IPython.display import Image\n",
    "import joblib\n",
    "from sklearn import tree as sklearn_tree\n",
    "from six import StringIO\n",
    "from tqdm import tqdm\n",
    "import pandas as pd\n",
    "import pydotplus"
   ]
  },
  {
   "cell_type": "code",
   "execution_count": 2,
   "metadata": {},
   "outputs": [],
   "source": [
    "def visualize_tree(model, feature_names, class_names, fill_colors, progress=False):\n",
    "    dot_data = StringIO()\n",
    "    if progress:\n",
    "        print(\"Exporting graphviz...\")\n",
    "    sklearn_tree.export_graphviz(\n",
    "        model,\n",
    "        out_file=dot_data,\n",
    "        feature_names=feature_names,\n",
    "        class_names=class_names\n",
    "    )\n",
    "    if progress:\n",
    "        print(\"Building graph...\")\n",
    "    graph = pydotplus.graph_from_dot_data(dot_data.getvalue())\n",
    "    leaves = set()\n",
    "    non_leaves = set()\n",
    "    if progress:\n",
    "        print(\"Processing edges...\")\n",
    "    edge_bar = tqdm(graph.get_edges()) if progress else graph.get_edges()\n",
    "    for edge in edge_bar:\n",
    "        leaves.add(int(edge.get_destination()))\n",
    "        non_leaves.add(int(edge.get_source()))\n",
    "    leaves.difference_update(non_leaves)\n",
    "    leaves_idx = list(filter(lambda l: type(l) is int, leaves))\n",
    "    nodes = graph.get_nodes()\n",
    "    terminal_nodes = [nodes[i + 1] for i in leaves_idx]\n",
    "    note = \"Catch Probability\\n{:.1f}% ({} / {})\"\n",
    "    if progress:\n",
    "        print(\"Processing nodes...\")\n",
    "    node_bar = tqdm(nodes) if progress else nodes\n",
    "    for i, node in enumerate(node_bar):\n",
    "        text = node.get_label()\n",
    "        is_terminal = (i - 1) in leaves_idx\n",
    "        if text:\n",
    "            if is_terminal:\n",
    "                cls = text[1:-1].split(\"nclass = \")[1]\n",
    "                raw_vals = text[1:-1].split(\"value = [\")[1].split(\"]\")[0].split(\", \")\n",
    "                vals = [int(v) for v in raw_vals]\n",
    "                comp = vals[1]\n",
    "                att = sum(vals)\n",
    "                prob = 100 * (comp / att)\n",
    "                node.set(\"label\", note.format(prob, comp, att))\n",
    "                node.set(\"style\", \"filled\")\n",
    "                if cls == class_names[0]:\n",
    "                    node.set(\"fillcolor\", fill_colors[0])\n",
    "                elif cls == class_names[1]:\n",
    "                    node.set(\"fillcolor\", fill_colors[1])\n",
    "            else:\n",
    "                rule = text[1:-1].split(\"gini\")[0]\n",
    "                node.set(\"label\", rule)\n",
    "    if progress:\n",
    "        print(\"Done.\")\n",
    "    return Image(graph.create_png())"
   ]
  },
  {
   "cell_type": "code",
   "execution_count": 3,
   "metadata": {},
   "outputs": [
    {
     "data": {
      "text/plain": [
       "DecisionTreeClassifier(random_state=0)"
      ]
     },
     "execution_count": 3,
     "metadata": {},
     "output_type": "execute_result"
    }
   ],
   "source": [
    "clf_tree = joblib.load(\"../models/demo_DecisionTree.pkl\")\n",
    "clf_tree"
   ]
  },
  {
   "cell_type": "code",
   "execution_count": 4,
   "metadata": {},
   "outputs": [
    {
     "name": "stdout",
     "output_type": "stream",
     "text": [
      "Exporting graphviz...\n",
      "Building graph...\n",
      "Processing edges...\n"
     ]
    },
    {
     "name": "stderr",
     "output_type": "stream",
     "text": [
      "100%|██████████| 3302/3302 [00:00<00:00, 332890.87it/s]\n",
      "100%|██████████| 3304/3304 [00:00<00:00, 42580.59it/s]"
     ]
    },
    {
     "name": "stdout",
     "output_type": "stream",
     "text": [
      "Processing nodes...\n",
      "Done.\n"
     ]
    },
    {
     "name": "stderr",
     "output_type": "stream",
     "text": [
      "\n"
     ]
    }
   ],
   "source": [
    "classes = [\"Non-Goal\", \"Goal\"]\n",
    "colors = [\"#f76b5c\", \"#5cff87\"]\n",
    "features = [\"goal_distance\", \"goal_angle\"]\n",
    "img = visualize_tree(clf_tree, features, classes, colors, progress=True)"
   ]
  },
  {
   "cell_type": "code",
   "execution_count": 5,
   "metadata": {},
   "outputs": [],
   "source": [
    "with open(\"../models/demo_DecisionTree.png\", \"wb\") as f:\n",
    "    f.write(img.data)"
   ]
  },
  {
   "cell_type": "code",
   "execution_count": 6,
   "metadata": {},
   "outputs": [],
   "source": [
    "def visualize_logit(model, features, cmap):\n",
    "    variables = [\"intercept\"] + features\n",
    "    coefs = list(model.intercept_) + list(model.coef_[0])\n",
    "    df = pd.DataFrame({\"feature\": variables, \"coef\": coefs})\n",
    "    return df.style.background_gradient(cmap=cmap)"
   ]
  },
  {
   "cell_type": "code",
   "execution_count": 7,
   "metadata": {},
   "outputs": [
    {
     "data": {
      "text/plain": [
       "LogisticRegression(random_state=0)"
      ]
     },
     "execution_count": 7,
     "metadata": {},
     "output_type": "execute_result"
    }
   ],
   "source": [
    "clf_logit = joblib.load(\"../models/demo_logistic_regression.pkl\")\n",
    "clf_logit"
   ]
  },
  {
   "cell_type": "code",
   "execution_count": 8,
   "metadata": {},
   "outputs": [
    {
     "data": {
      "text/html": [
       "<style  type=\"text/css\" >\n",
       "#T_fb659306_4ad4_11eb_ba63_f40f2436fa18row0_col1{\n",
       "            background-color:  #a50026;\n",
       "            color:  #f1f1f1;\n",
       "        }#T_fb659306_4ad4_11eb_ba63_f40f2436fa18row1_col1{\n",
       "            background-color:  #f1fad9;\n",
       "            color:  #000000;\n",
       "        }#T_fb659306_4ad4_11eb_ba63_f40f2436fa18row2_col1{\n",
       "            background-color:  #313695;\n",
       "            color:  #f1f1f1;\n",
       "        }</style><table id=\"T_fb659306_4ad4_11eb_ba63_f40f2436fa18\" ><thead>    <tr>        <th class=\"blank level0\" ></th>        <th class=\"col_heading level0 col0\" >feature</th>        <th class=\"col_heading level0 col1\" >coef</th>    </tr></thead><tbody>\n",
       "                <tr>\n",
       "                        <th id=\"T_fb659306_4ad4_11eb_ba63_f40f2436fa18level0_row0\" class=\"row_heading level0 row0\" >0</th>\n",
       "                        <td id=\"T_fb659306_4ad4_11eb_ba63_f40f2436fa18row0_col0\" class=\"data row0 col0\" >intercept</td>\n",
       "                        <td id=\"T_fb659306_4ad4_11eb_ba63_f40f2436fa18row0_col1\" class=\"data row0 col1\" >-2.144355</td>\n",
       "            </tr>\n",
       "            <tr>\n",
       "                        <th id=\"T_fb659306_4ad4_11eb_ba63_f40f2436fa18level0_row1\" class=\"row_heading level0 row1\" >1</th>\n",
       "                        <td id=\"T_fb659306_4ad4_11eb_ba63_f40f2436fa18row1_col0\" class=\"data row1 col0\" >goal_distance</td>\n",
       "                        <td id=\"T_fb659306_4ad4_11eb_ba63_f40f2436fa18row1_col1\" class=\"data row1 col1\" >-0.007052</td>\n",
       "            </tr>\n",
       "            <tr>\n",
       "                        <th id=\"T_fb659306_4ad4_11eb_ba63_f40f2436fa18level0_row2\" class=\"row_heading level0 row2\" >2</th>\n",
       "                        <td id=\"T_fb659306_4ad4_11eb_ba63_f40f2436fa18row2_col0\" class=\"data row2 col0\" >goal_angle</td>\n",
       "                        <td id=\"T_fb659306_4ad4_11eb_ba63_f40f2436fa18row2_col1\" class=\"data row2 col1\" >1.784609</td>\n",
       "            </tr>\n",
       "    </tbody></table>"
      ],
      "text/plain": [
       "<pandas.io.formats.style.Styler at 0x12f1e95c0>"
      ]
     },
     "execution_count": 8,
     "metadata": {},
     "output_type": "execute_result"
    }
   ],
   "source": [
    "visualize_logit(clf_logit, features, cmap=\"RdYlBu\")"
   ]
  },
  {
   "cell_type": "code",
   "execution_count": null,
   "metadata": {},
   "outputs": [],
   "source": []
  }
 ],
 "metadata": {
  "kernelspec": {
   "display_name": "Python 3",
   "language": "python",
   "name": "python3"
  },
  "language_info": {
   "codemirror_mode": {
    "name": "ipython",
    "version": 3
   },
   "file_extension": ".py",
   "mimetype": "text/x-python",
   "name": "python",
   "nbconvert_exporter": "python",
   "pygments_lexer": "ipython3",
   "version": "3.6.1"
  },
  "varInspector": {
   "cols": {
    "lenName": 16,
    "lenType": 16,
    "lenVar": 40
   },
   "kernels_config": {
    "python": {
     "delete_cmd_postfix": "",
     "delete_cmd_prefix": "del ",
     "library": "var_list.py",
     "varRefreshCmd": "print(var_dic_list())"
    },
    "r": {
     "delete_cmd_postfix": ") ",
     "delete_cmd_prefix": "rm(",
     "library": "var_list.r",
     "varRefreshCmd": "cat(var_dic_list()) "
    }
   },
   "types_to_exclude": [
    "module",
    "function",
    "builtin_function_or_method",
    "instance",
    "_Feature"
   ],
   "window_display": false
  }
 },
 "nbformat": 4,
 "nbformat_minor": 4
}
