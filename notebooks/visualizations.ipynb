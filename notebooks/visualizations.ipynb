{
 "cells": [
  {
   "cell_type": "code",
   "execution_count": 10,
   "metadata": {},
   "outputs": [],
   "source": [
    "%matplotlib inline"
   ]
  },
  {
   "cell_type": "code",
   "execution_count": 60,
   "metadata": {},
   "outputs": [],
   "source": [
    "import sys\n",
    "sys.path.append(\"../\")\n",
    "\n",
    "from haxml.prediction import (\n",
    "    generate_rows_edwin,\n",
    "    predict_xg_edwin\n",
    ")\n",
    "from haxml.utils import (\n",
    "    get_stadiums,\n",
    "    get_matches_metadata,\n",
    "    load_match,\n",
    "    train_test_split_matches_even_count,\n",
    "    get_positions_at_time\n",
    ")\n",
    "\n",
    "from haxml.viz import (\n",
    "    plot_positions,\n",
    "    get_xg_time_series,\n",
    "    plot_xg_time_series,\n",
    "    zoom_stadium,\n",
    "    plot_positions\n",
    ")\n",
    "\n",
    "from haxml.evaluation import (\n",
    "    make_df\n",
    ")\n",
    "import pandas as pd\n",
    "from matplotlib.figure import Figure\n",
    "import matplotlib.pyplot as plt\n",
    "import joblib"
   ]
  },
  {
   "cell_type": "code",
   "execution_count": 22,
   "metadata": {},
   "outputs": [],
   "source": [
    "stadiums = get_stadiums(\"../data/stadiums.json\")\n",
    "metadata = get_matches_metadata(\"../data/matches_metadata.csv\")\n",
    "clf = joblib.load(\"../models/random_forest_max_depth_12.pkl\")\n",
    "train, test = train_test_split_matches_even_count(metadata)"
   ]
  },
  {
   "cell_type": "code",
   "execution_count": 20,
   "metadata": {},
   "outputs": [
    {
     "name": "stderr",
     "output_type": "stream",
     "text": [
      "100%|██████████| 851/851 [02:15<00:00,  6.29it/s]\n",
      "100%|██████████| 850/850 [02:18<00:00,  6.12it/s]\n"
     ]
    }
   ],
   "source": [
    "d_train = make_df(train, stadiums, generate_rows_edwin, progress=True)\n",
    "d_test = make_df(test, stadiums, generate_rows_edwin, progress=True)"
   ]
  },
  {
   "cell_type": "code",
   "execution_count": 85,
   "metadata": {},
   "outputs": [
    {
     "ename": "FileNotFoundError",
     "evalue": "[Errno 2] No such file or directory: '../data/packed_matches/-MQp2WdIF6ef-qmAyfcR.json'",
     "output_type": "error",
     "traceback": [
      "\u001b[0;31m---------------------------------------------------------------------------\u001b[0m",
      "\u001b[0;31mFileNotFoundError\u001b[0m                         Traceback (most recent call last)",
      "\u001b[0;32m<ipython-input-85-61d02448ceab>\u001b[0m in \u001b[0;36m<module>\u001b[0;34m\u001b[0m\n\u001b[1;32m      3\u001b[0m \u001b[0mmodel_name\u001b[0m \u001b[0;34m=\u001b[0m \u001b[0;34m\"random forest\"\u001b[0m\u001b[0;34m\u001b[0m\u001b[0;34m\u001b[0m\u001b[0m\n\u001b[1;32m      4\u001b[0m \u001b[0ms\u001b[0m \u001b[0;34m=\u001b[0m \u001b[0mstadiums\u001b[0m\u001b[0;34m[\u001b[0m\u001b[0mSTADIUM\u001b[0m\u001b[0;34m]\u001b[0m\u001b[0;34m\u001b[0m\u001b[0;34m\u001b[0m\u001b[0m\n\u001b[0;32m----> 5\u001b[0;31m match = load_match(\n\u001b[0m\u001b[1;32m      6\u001b[0m     \u001b[0;34m\"../data/packed_matches/{}.json\"\u001b[0m\u001b[0;34m.\u001b[0m\u001b[0mformat\u001b[0m\u001b[0;34m(\u001b[0m\u001b[0mMATCH\u001b[0m\u001b[0;34m)\u001b[0m\u001b[0;34m,\u001b[0m\u001b[0;34m\u001b[0m\u001b[0;34m\u001b[0m\u001b[0m\n\u001b[1;32m      7\u001b[0m     \u001b[0;32mlambda\u001b[0m \u001b[0mm\u001b[0m\u001b[0;34m:\u001b[0m \u001b[0mpredict_xg_edwin\u001b[0m\u001b[0;34m(\u001b[0m\u001b[0mm\u001b[0m\u001b[0;34m,\u001b[0m \u001b[0ms\u001b[0m\u001b[0;34m,\u001b[0m \u001b[0mgenerate_rows_edwin\u001b[0m\u001b[0;34m,\u001b[0m \u001b[0mclf\u001b[0m\u001b[0;34m)\u001b[0m\u001b[0;34m\u001b[0m\u001b[0;34m\u001b[0m\u001b[0m\n",
      "\u001b[0;32m~/notedwin/software-projects/haxml/haxml/utils.py\u001b[0m in \u001b[0;36mload_match\u001b[0;34m(infile, callback)\u001b[0m\n\u001b[1;32m    218\u001b[0m         \u001b[0mReturn\u001b[0m \u001b[0mvalue\u001b[0m \u001b[0mof\u001b[0m \u001b[0mcallback\u001b[0m\u001b[0;34m,\u001b[0m \u001b[0;32mif\u001b[0m \u001b[0many\u001b[0m\u001b[0;34m.\u001b[0m\u001b[0;34m\u001b[0m\u001b[0;34m\u001b[0m\u001b[0m\n\u001b[1;32m    219\u001b[0m     \"\"\"\n\u001b[0;32m--> 220\u001b[0;31m     \u001b[0;32mwith\u001b[0m \u001b[0mopen\u001b[0m\u001b[0;34m(\u001b[0m\u001b[0minfile\u001b[0m\u001b[0;34m,\u001b[0m \u001b[0;34m\"r\"\u001b[0m\u001b[0;34m)\u001b[0m \u001b[0;32mas\u001b[0m \u001b[0mfile\u001b[0m\u001b[0;34m:\u001b[0m\u001b[0;34m\u001b[0m\u001b[0;34m\u001b[0m\u001b[0m\n\u001b[0m\u001b[1;32m    221\u001b[0m         \u001b[0mpacked\u001b[0m \u001b[0;34m=\u001b[0m \u001b[0mjson\u001b[0m\u001b[0;34m.\u001b[0m\u001b[0mload\u001b[0m\u001b[0;34m(\u001b[0m\u001b[0mfile\u001b[0m\u001b[0;34m)\u001b[0m\u001b[0;34m\u001b[0m\u001b[0;34m\u001b[0m\u001b[0m\n\u001b[1;32m    222\u001b[0m         \u001b[0mmatch\u001b[0m \u001b[0;34m=\u001b[0m \u001b[0minflate_match\u001b[0m\u001b[0;34m(\u001b[0m\u001b[0mpacked\u001b[0m\u001b[0;34m)\u001b[0m\u001b[0;34m\u001b[0m\u001b[0;34m\u001b[0m\u001b[0m\n",
      "\u001b[0;31mFileNotFoundError\u001b[0m: [Errno 2] No such file or directory: '../data/packed_matches/-MQp2WdIF6ef-qmAyfcR.json'"
     ]
    }
   ],
   "source": [
    "MATCH = \"-MQp2WdIF6ef-qmAyfcR\"\n",
    "STADIUM = \"NAFL 1v1/2v2 Map v1\"\n",
    "model_name = \"random forest\"\n",
    "s = stadiums[STADIUM]\n",
    "match = load_match(\n",
    "    \"../data/packed_matches/{}.json\".format(MATCH),\n",
    "    lambda m: predict_xg_edwin(m, s, generate_rows_edwin, clf)\n",
    ")"
   ]
  },
  {
   "cell_type": "code",
   "execution_count": 83,
   "metadata": {},
   "outputs": [
    {
     "data": {
      "image/png": "[encoded data removed]",
      "text/plain": [
       "<Figure size 720x432 with 1 Axes>"
      ]
     },
     "execution_count": 83,
     "metadata": {},
     "output_type": "execute_result"
    }
   ],
   "source": [
    "fig, ax = plot_xg_time_series(match)\n",
    "ax.set_title(\"{}\\nXG Model: {}\".format(ax.title.get_text(), model_name))\n",
    "fig.set_size_inches(10, 6)\n",
    "fig"
   ]
  },
  {
   "cell_type": "code",
   "execution_count": 63,
   "metadata": {},
   "outputs": [
    {
     "data": {
      "text/html": [
       "<div>\n",
       "<style scoped>\n",
       "    .dataframe tbody tr th:only-of-type {\n",
       "        vertical-align: middle;\n",
       "    }\n",
       "\n",
       "    .dataframe tbody tr th {\n",
       "        vertical-align: top;\n",
       "    }\n",
       "\n",
       "    .dataframe thead th {\n",
       "        text-align: right;\n",
       "    }\n",
       "</style>\n",
       "<table border=\"1\" class=\"dataframe\">\n",
       "  <thead>\n",
       "    <tr style=\"text-align: right;\">\n",
       "      <th></th>\n",
       "      <th>time</th>\n",
       "      <th>type</th>\n",
       "      <th>fromId</th>\n",
       "      <th>fromX</th>\n",
       "      <th>fromY</th>\n",
       "      <th>fromName</th>\n",
       "      <th>fromTeam</th>\n",
       "      <th>toId</th>\n",
       "      <th>toX</th>\n",
       "      <th>toY</th>\n",
       "      <th>toName</th>\n",
       "      <th>toTeam</th>\n",
       "      <th>xg</th>\n",
       "    </tr>\n",
       "  </thead>\n",
       "  <tbody>\n",
       "    <tr>\n",
       "      <th>4</th>\n",
       "      <td>15.3</td>\n",
       "      <td>goal</td>\n",
       "      <td>19</td>\n",
       "      <td>-51.0</td>\n",
       "      <td>-95.0</td>\n",
       "      <td>Player 22</td>\n",
       "      <td>blue</td>\n",
       "      <td>NaN</td>\n",
       "      <td>NaN</td>\n",
       "      <td>NaN</td>\n",
       "      <td>None</td>\n",
       "      <td>None</td>\n",
       "      <td>0.703840</td>\n",
       "    </tr>\n",
       "    <tr>\n",
       "      <th>11</th>\n",
       "      <td>52.6</td>\n",
       "      <td>goal</td>\n",
       "      <td>19</td>\n",
       "      <td>211.0</td>\n",
       "      <td>133.0</td>\n",
       "      <td>Player 22</td>\n",
       "      <td>blue</td>\n",
       "      <td>NaN</td>\n",
       "      <td>NaN</td>\n",
       "      <td>NaN</td>\n",
       "      <td>None</td>\n",
       "      <td>None</td>\n",
       "      <td>0.097996</td>\n",
       "    </tr>\n",
       "    <tr>\n",
       "      <th>25</th>\n",
       "      <td>76.4</td>\n",
       "      <td>goal</td>\n",
       "      <td>4</td>\n",
       "      <td>335.0</td>\n",
       "      <td>12.0</td>\n",
       "      <td>Player 18</td>\n",
       "      <td>red</td>\n",
       "      <td>NaN</td>\n",
       "      <td>NaN</td>\n",
       "      <td>NaN</td>\n",
       "      <td>None</td>\n",
       "      <td>None</td>\n",
       "      <td>0.472710</td>\n",
       "    </tr>\n",
       "    <tr>\n",
       "      <th>30</th>\n",
       "      <td>94.0</td>\n",
       "      <td>goal</td>\n",
       "      <td>4</td>\n",
       "      <td>-236.0</td>\n",
       "      <td>-107.0</td>\n",
       "      <td>Player 18</td>\n",
       "      <td>red</td>\n",
       "      <td>NaN</td>\n",
       "      <td>NaN</td>\n",
       "      <td>NaN</td>\n",
       "      <td>None</td>\n",
       "      <td>None</td>\n",
       "      <td>0.153921</td>\n",
       "    </tr>\n",
       "  </tbody>\n",
       "</table>\n",
       "</div>"
      ],
      "text/plain": [
       "    time  type  fromId  fromX  fromY   fromName fromTeam  toId  toX  toY  \\\n",
       "4   15.3  goal      19  -51.0  -95.0  Player 22     blue   NaN  NaN  NaN   \n",
       "11  52.6  goal      19  211.0  133.0  Player 22     blue   NaN  NaN  NaN   \n",
       "25  76.4  goal       4  335.0   12.0  Player 18      red   NaN  NaN  NaN   \n",
       "30  94.0  goal       4 -236.0 -107.0  Player 18      red   NaN  NaN  NaN   \n",
       "\n",
       "   toName toTeam        xg  \n",
       "4    None   None  0.703840  \n",
       "11   None   None  0.097996  \n",
       "25   None   None  0.472710  \n",
       "30   None   None  0.153921  "
      ]
     },
     "execution_count": 63,
     "metadata": {},
     "output_type": "execute_result"
    }
   ],
   "source": [
    "pd.DataFrame(match[\"kicks\"]).query(\"type == 'goal'\")"
   ]
  },
  {
   "cell_type": "code",
   "execution_count": 64,
   "metadata": {},
   "outputs": [
    {
     "data": {
      "text/plain": [
       "0.7038401878148658"
      ]
     },
     "execution_count": 64,
     "metadata": {},
     "output_type": "execute_result"
    }
   ],
   "source": [
    "max(pd.DataFrame(match[\"kicks\"])['xg'])"
   ]
  },
  {
   "cell_type": "code",
   "execution_count": 73,
   "metadata": {},
   "outputs": [
    {
     "data": {
      "text/plain": [
       "{'time': 15.3,\n",
       " 'type': 'goal',\n",
       " 'fromId': 19,\n",
       " 'fromX': -51.0,\n",
       " 'fromY': -95.0,\n",
       " 'fromName': 'Player 22',\n",
       " 'fromTeam': 'blue',\n",
       " 'toId': None,\n",
       " 'toX': None,\n",
       " 'toY': None,\n",
       " 'toName': None,\n",
       " 'toTeam': None,\n",
       " 'xg': 0.7038401878148658}"
      ]
     },
     "execution_count": 73,
     "metadata": {},
     "output_type": "execute_result"
    }
   ],
   "source": [
    "kick = list(filter(lambda k: k[\"type\"] == \"goal\",match[\"kicks\"]))[0]\n",
    "kick"
   ]
  },
  {
   "cell_type": "code",
   "execution_count": 76,
   "metadata": {},
   "outputs": [
    {
     "data": {
      "image/png": "[encoded data removed]",
      "text/plain": [
       "<Figure size 720x432 with 1 Axes>"
      ]
     },
     "execution_count": 76,
     "metadata": {},
     "output_type": "execute_result"
    }
   ],
   "source": [
    "positions = get_positions_at_time(match[\"positions\"], kick[\"time\"])\n",
    "fig,ax = plot_positions(positions,s)\n",
    "fig.set_size_inches(10,6)\n",
    "fig"
   ]
  },
  {
   "cell_type": "code",
   "execution_count": 77,
   "metadata": {},
   "outputs": [
    {
     "data": {
      "text/plain": [
       "{'match_id': '-MPGtURjaUui1pTiI8nW',\n",
       " 'stadium': 'NAFL 1v1/2v2 Map v1',\n",
       " 'time': 94.0,\n",
       " 'kicks_red': 17,\n",
       " 'kicks_blue': 14,\n",
       " 'score_red': 3,\n",
       " 'score_blue': 2,\n",
       " 'scored_goals_red': 2,\n",
       " 'scored_goals_blue': 2}"
      ]
     },
     "execution_count": 77,
     "metadata": {},
     "output_type": "execute_result"
    }
   ],
   "source": [
    "metadata[45]"
   ]
  },
  {
   "cell_type": "code",
   "execution_count": null,
   "metadata": {},
   "outputs": [],
   "source": []
  }
 ],
 "metadata": {
  "kernelspec": {
   "display_name": "Python 3",
   "language": "python",
   "name": "python3"
  },
  "language_info": {
   "codemirror_mode": {
    "name": "ipython",
    "version": 3
   },
   "file_extension": ".py",
   "mimetype": "text/x-python",
   "name": "python",
   "nbconvert_exporter": "python",
   "pygments_lexer": "ipython3",
   "version": "3.7.6"
  }
 },
 "nbformat": 4,
 "nbformat_minor": 4
}
