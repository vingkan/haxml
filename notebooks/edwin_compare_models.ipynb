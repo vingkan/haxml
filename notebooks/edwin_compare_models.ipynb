{
 "cells": [
  {
   "cell_type": "markdown",
   "metadata": {},
   "source": [
    "# Compare Models"
   ]
  },
  {
   "cell_type": "code",
   "execution_count": 1,
   "metadata": {},
   "outputs": [],
   "source": [
    "import sys\n",
    "sys.path.append(\"../\")\n",
    "\n",
    "from haxml.utils import (\n",
    "    get_stadiums,\n",
    "    get_matches_metadata,\n",
    "    train_test_split_matches_even_count,\n",
    "    get_opposing_goalpost,\n",
    "    stadium_distance,\n",
    "    angle_from_goal,\n",
    "    is_scored_goal,\n",
    "    # my features\n",
    "    get_positions_in_range,\n",
    "    get_positions_at_time,\n",
    "    defender_feature, # closest defender, defenders within dist\n",
    "    defender_box, # count defender within goal and shot in rect\n",
    "    defender_cone, # count defenders between shot and goal in cone\n",
    "    speed_ball\n",
    ")\n",
    "from haxml.evaluation import (\n",
    "    summarize_split,\n",
    "    style_columns,\n",
    "    make_df,\n",
    "    score_model,\n",
    "    run_models,\n",
    "    blank_plot,\n",
    "    plot_errors_by_kicks,\n",
    "    plot_errors_by_goals,\n",
    "    plot_xg_histogram\n",
    ")\n",
    "from matplotlib.figure import Figure\n",
    "import matplotlib.pyplot as plt\n",
    "import numpy as np\n",
    "import pandas as pd\n",
    "import seaborn as sns\n",
    "from tqdm import tqdm"
   ]
  },
  {
   "cell_type": "markdown",
   "metadata": {},
   "source": [
    "## Load Data and Make Train/Test Split"
   ]
  },
  {
   "cell_type": "code",
   "execution_count": 2,
   "metadata": {},
   "outputs": [],
   "source": [
    "stadiums = get_stadiums(\"../data/stadiums.json\")\n",
    "metadata = get_matches_metadata(\"../data/matches_metadata.csv\")\n",
    "train, test = train_test_split_matches_even_count(metadata)"
   ]
  },
  {
   "cell_type": "code",
   "execution_count": 3,
   "metadata": {},
   "outputs": [
    {
     "name": "stdout",
     "output_type": "stream",
     "text": [
      "Train Data:\n",
      "Matches: 929\n",
      "Goals: 2,441\n",
      "Kicks: 97,380\n",
      "E(XG): 0.025\n",
      "\n",
      "Test Data:\n",
      "Matches: 928\n",
      "Goals: 2,437\n",
      "Kicks: 95,124\n",
      "E(XG): 0.026\n"
     ]
    }
   ],
   "source": [
    "print(\"Train Data:\")\n",
    "summarize_split(train)\n",
    "print()\n",
    "print(\"Test Data:\")\n",
    "summarize_split(test)"
   ]
  },
  {
   "cell_type": "markdown",
   "metadata": {},
   "source": [
    "## Feature Engineering\n",
    "\n",
    "Add all your new features to the `generate_rows_compare()` method."
   ]
  },
  {
   "cell_type": "markdown",
   "metadata": {},
   "source": [
    "## Todo:\n",
    "Get the speed of the ball and area of the box/triangle"
   ]
  },
  {
   "cell_type": "code",
   "execution_count": 4,
   "metadata": {},
   "outputs": [],
   "source": [
    "def speed_player(match,kick,player_name, offset):\n",
    "    '''' Speed of the player\n",
    "       Args:\n",
    "           match: Which match it is\n",
    "           kick: Which kick we want to measure\n",
    "           player_name: What player do we want to measure the speed for\n",
    "\n",
    "        Returns:\n",
    "           Int that represents the speed of the player\n",
    "    '''\n",
    "    #Getting time range to be able to measure distance\n",
    "    #start = get_positions_at_time(match[\"positions\"], kick[\"time\"] - offset)\n",
    "    #end = get_positions_at_time(match[\"positions\"], kick[\"time\"])\n",
    "    #getting positions\n",
    "    positions = get_positions_in_range(match[\"positions\"], kick[\"time\"] - offset,kick[\"time\"])\n",
    "    #print(positions)\n",
    "    player_pos = []\n",
    "    for i in positions:\n",
    "        if i['name'] == player_name: \n",
    "            player_pos.append(i)    \n",
    "    #print(player_pos)\n",
    "    #Getting the time\n",
    "    if len(player_pos) > 1:\n",
    "        last = len(player_pos)-1#getting last index)\n",
    "        time = player_pos[last]['time'] -  player_pos[0]['time'] \n",
    "        #Getting the distance \n",
    "        distance = stadium_distance(player_pos[0]['x'],player_pos[0]['y'],player_pos[last]['x'],player_pos[last]['y'])\n",
    "        #dist_formula(player_pos[0]['x'],player_pos[0]['y'],player_pos[last]['x'],player_pos[last]['y'])\n",
    "        #print(\"dist:\" + str(distance))\n",
    "        #print(\"time:\" + str(time))\n",
    "        #Returns speed\n",
    "        #NEED TO CHANGE TIME INTO SECONDS SO THAT IT IS CONSTANT AND NOT DIVIDING BY DIFF VALS\n",
    "        return distance/time\n",
    "    else:\n",
    "        return 0"
   ]
  },
  {
   "cell_type": "code",
   "execution_count": 5,
   "metadata": {},
   "outputs": [],
   "source": [
    "def generate_rows_compare(match, stadium):\n",
    "    \"\"\"\n",
    "    Generates target and features for each kick in the match.\n",
    "    Produces many features for model comparison.\n",
    "    Args:\n",
    "        match: Inflated match data (dict).\n",
    "        stadium: Stadium data (dict).\n",
    "    Returns:\n",
    "        Generator of dicts with values for each kick in the given match.\n",
    "        Includes prediction target \"ag\" (actual goals) which is 1 for a scored\n",
    "        goal (goal or error) and 0 otherwise, \"index\" which is the index of the\n",
    "        kick in the match kick list, and all the other features needed for\n",
    "        prediction and explanation.\n",
    "    \"\"\"\n",
    "    for i, kick in enumerate(match[\"kicks\"]):\n",
    "        gp = get_opposing_goalpost(stadium, kick[\"fromTeam\"])\n",
    "        x = kick[\"fromX\"]\n",
    "        y = kick[\"fromY\"]\n",
    "        gx = gp[\"mid\"][\"x\"]\n",
    "        gy = gp[\"mid\"][\"y\"]\n",
    "        dist = stadium_distance(x, y, gx, gy)\n",
    "        angle = angle_from_goal(x, y, gx, gy)\n",
    "        defender_dist,closest_defender = defender_feature(match,kick,100)\n",
    "        defenders_within_box,in_box = defender_box(match,stadium,kick)\n",
    "        defenders_within_shot,in_shot = defender_cone(match,stadium,kick,1)\n",
    "        ball_speed=speed_ball(match,kick,1)\n",
    "        name = kick['fromName']\n",
    "        row = {\n",
    "            \"ag\": 1 if is_scored_goal(kick) else 0,\n",
    "            \"index\": i,\n",
    "            \"time\": kick[\"time\"],\n",
    "            \"x\": x,\n",
    "            \"y\": y,\n",
    "            \"goal_x\": gx,\n",
    "            \"goal_y\": gy,\n",
    "            \"goal_distance\": dist,\n",
    "            \"goal_angle\": angle,\n",
    "            \"team\": kick[\"fromTeam\"],\n",
    "            \"stadium\": match[\"stadium\"],\n",
    "            \"defender_dist\": defender_dist, # numerical , numbers within a range\n",
    "            \"closest_defender\": closest_defender, # numerical, distance of the closest \n",
    "            \"defenders_within_box\": defenders_within_box, # numerical, number of player(defenders) within goal and kick(ball)\n",
    "            \"in_box\": in_box, # Boolean, Is there defenders in this boxb bteween goal and kick\n",
    "            \"defenders_within_shot\": defenders_within_shot, # numerical, how many players(defenders) are in this cone\n",
    "            \"in_shot\": in_shot, # Boolean, Is there defenders in this cone\n",
    "            \"ball_speed\": ball_speed # numerical, speeds ball within a given time range\n",
    "        }\n",
    "        yield row"
   ]
  },
  {
   "cell_type": "code",
   "execution_count": 6,
   "metadata": {},
   "outputs": [
    {
     "name": "stderr",
     "output_type": "stream",
     "text": [
      "100%|██████████| 929/929 [07:03<00:00,  2.19it/s]\n",
      "100%|██████████| 928/928 [06:21<00:00,  2.43it/s]\n"
     ]
    }
   ],
   "source": [
    "d_train = make_df(train, stadiums, generate_rows_compare, progress=True)\n",
    "d_test = make_df(test, stadiums, generate_rows_compare, progress=True)"
   ]
  },
  {
   "cell_type": "markdown",
   "metadata": {},
   "source": [
    "## Train Models\n",
    "\n",
    "Specific all the models and feature sets you want to use below."
   ]
  },
  {
   "cell_type": "code",
   "execution_count": 7,
   "metadata": {},
   "outputs": [],
   "source": [
    "from sklearn.tree import DecisionTreeClassifier\n",
    "from sklearn.linear_model import LogisticRegression\n",
    "from sklearn.neighbors import KNeighborsClassifier\n",
    "from sklearn.ensemble import GradientBoostingClassifier\n",
    "from sklearn.ensemble import RandomForestClassifier"
   ]
  },
  {
   "cell_type": "code",
   "execution_count": 8,
   "metadata": {},
   "outputs": [],
   "source": [
    "# brute force tested all the different model\n",
    "from itertools import chain, combinations\n",
    "\n",
    "features = [\"goal_distance\",\n",
    "            \"goal_angle\",\n",
    "            \"defender_dist\",\n",
    "            \"closest_defender\",\n",
    "            \"defenders_within_box\",\n",
    "            \"in_box\",\n",
    "            \"defenders_within_shot\",\n",
    "            \"in_shot\",\n",
    "            \"ball_speed\"]\n",
    "feature_sets = []\n",
    "\n",
    "\n",
    "def powerset(iterable):\n",
    "    s = list(iterable)\n",
    "    return chain.from_iterable(combinations(s, r) for r in range(4,len(s)+1))\n",
    "\n",
    "results = list(powerset(features))\n",
    "for res in results:\n",
    "    feat = list(res)\n",
    "    feature_sets.append(feat)\n",
    "#feature_sets"
   ]
  },
  {
   "cell_type": "code",
   "execution_count": 9,
   "metadata": {},
   "outputs": [],
   "source": [
    "feature_sets = [\n",
    "    [\"goal_distance\",\"goal_angle\",\"defender_dist\",\"closest_defender\",\"defenders_within_box\",\"in_box\",\"in_shot\",\"ball_speed\"] # best model\n",
    "]"
   ]
  },
  {
   "cell_type": "code",
   "execution_count": 10,
   "metadata": {},
   "outputs": [],
   "source": [
    "model_params = [\n",
    "    (RandomForestClassifier, {\"max_depth\":12, \"random_state\":0}),\n",
    "    (RandomForestClassifier, {\"max_depth\":8, \"random_state\":0}),\n",
    "]\n",
    "\n",
    "#Some of the models I tried\n",
    "#(LogisticRegression, {\"random_state\": 0}),\n",
    "#(DecisionTreeClassifier, {}),\n",
    "#(DecisionTreeClassifier, {\"max_depth\": 3}),\n",
    "#(DecisionTreeClassifier, {\"max_depth\": 5}),\n",
    "#    (KNeighborsClassifier, {\"n_neighbors\": 5}),\n",
    "#    (KNeighborsClassifier, {\"n_neighbors\": 10}),\n",
    "#(GradientBoostingClassifier, {\"n_estimators\":100, \"learning_rate\":1.0,\"max_depth\":1, \"random_state\":0})"
   ]
  },
  {
   "cell_type": "code",
   "execution_count": 11,
   "metadata": {},
   "outputs": [
    {
     "name": "stderr",
     "output_type": "stream",
     "text": [
      "Model: RandomForestClassifier(max_depth=8, random_state=0): 100%|██████████| 2/2 [00:23<00:00, 11.69s/it] \n"
     ]
    }
   ],
   "source": [
    "df_scored = run_models(d_train, d_test, score_model, \"ag\", feature_sets, model_params)"
   ]
  },
  {
   "cell_type": "markdown",
   "metadata": {},
   "source": [
    "## Rank Models By Score\n",
    "\n",
    "Call `help()` on `score_model()` to find out what the scoring metrics mean."
   ]
  },
  {
   "cell_type": "code",
   "execution_count": 12,
   "metadata": {},
   "outputs": [
    {
     "name": "stdout",
     "output_type": "stream",
     "text": [
      "Help on function score_model in module haxml.evaluation:\n",
      "\n",
      "score_model(d_test, target, features, clf, kwargs)\n",
      "    Score a given model and return its metrics and metadata.\n",
      "    Args:\n",
      "        d_test: DataFrame of test data.\n",
      "        target: Variable to predict (str).\n",
      "        features: Columns of DataFrame to use as predictors (list of str).\n",
      "        clf: Classifier (sklearn style).\n",
      "        kwargs: Keyword args for classifier.\n",
      "    Scores:\n",
      "        accuracy: correct predictions / all records\n",
      "        precision: true positives / predicted positives\n",
      "        recall: true positives / actual positives\n",
      "        roc_auc: area under the ROC curve (0.5 is as good as random)\n",
      "        match_mae: mean absolute error between XG and AG per match\n",
      "        match_rmse: root mean squared error between XG and AG per match\n",
      "        xg_mean: mean of XG on dataset\n",
      "        xg_std: standard deviation of XG on dataset\n",
      "    Returns:\n",
      "        Dictionary with fields for scoring metrics and model metadata.\n",
      "\n"
     ]
    }
   ],
   "source": [
    "help(score_model)"
   ]
  },
  {
   "cell_type": "code",
   "execution_count": 13,
   "metadata": {},
   "outputs": [],
   "source": [
    "score_color = \"94, 156, 255\"\n",
    "style_config = {\n",
    "    \"accuracy\": {\"rgb\": score_color, \"low\": 0, \"high\": 1},\n",
    "    \"precision\": {\"rgb\": score_color, \"low\": 0, \"high\": 1},\n",
    "    \"recall\": {\"rgb\": score_color, \"low\": 0, \"high\": 1},\n",
    "    \"roc_auc\": {\"rgb\": score_color, \"low\": 0.5, \"high\": 1},\n",
    "    \"match_mae\": {\"rgb\": score_color, \"low\": 3, \"high\": 0},\n",
    "    \"match_rmse\": {\"rgb\": score_color, \"low\": 3, \"high\": 0},\n",
    "    \"xg_mean\": {\"rgb\": score_color, \"low\": 0, \"high\": 0.07},\n",
    "    \"xg_std\": {\"rgb\": score_color, \"low\": 0, \"high\": 0.5},\n",
    "}"
   ]
  },
  {
   "cell_type": "code",
   "execution_count": 14,
   "metadata": {},
   "outputs": [
    {
     "data": {
      "text/html": [
       "<style  type=\"text/css\" >\n",
       "#T_827dd89a_6657_11eb_b81f_f40f2436fa18row0_col2{\n",
       "            background-color:  rgba(94, 156, 255, 0.9765884529666541);\n",
       "        }#T_827dd89a_6657_11eb_b81f_f40f2436fa18row0_col3{\n",
       "            background-color:  rgba(94, 156, 255, 0.9038461538461539);\n",
       "        }#T_827dd89a_6657_11eb_b81f_f40f2436fa18row0_col4{\n",
       "            background-color:  rgba(94, 156, 255, 0.09643003693065244);\n",
       "        }#T_827dd89a_6657_11eb_b81f_f40f2436fa18row0_col5{\n",
       "            background-color:  rgba(94, 156, 255, 0.09616031194225072);\n",
       "        }#T_827dd89a_6657_11eb_b81f_f40f2436fa18row0_col6{\n",
       "            background-color:  rgba(94, 156, 255, 0.575023964629388);\n",
       "        }#T_827dd89a_6657_11eb_b81f_f40f2436fa18row0_col7{\n",
       "            background-color:  rgba(94, 156, 255, 0.48446257125849784);\n",
       "        }#T_827dd89a_6657_11eb_b81f_f40f2436fa18row0_col8{\n",
       "            background-color:  rgba(94, 156, 255, 0.3543351632520566);\n",
       "        }#T_827dd89a_6657_11eb_b81f_f40f2436fa18row0_col9{\n",
       "            background-color:  rgba(94, 156, 255, 0.12720496601024045);\n",
       "        }#T_827dd89a_6657_11eb_b81f_f40f2436fa18row1_col2{\n",
       "            background-color:  rgba(94, 156, 255, 0.977555611622724);\n",
       "        }#T_827dd89a_6657_11eb_b81f_f40f2436fa18row1_col3{\n",
       "            background-color:  rgba(94, 156, 255, 0.729483282674772);\n",
       "        }#T_827dd89a_6657_11eb_b81f_f40f2436fa18row1_col4{\n",
       "            background-color:  rgba(94, 156, 255, 0.19696347968814115);\n",
       "        }#T_827dd89a_6657_11eb_b81f_f40f2436fa18row1_col5{\n",
       "            background-color:  rgba(94, 156, 255, 0.19504303777072018);\n",
       "        }#T_827dd89a_6657_11eb_b81f_f40f2436fa18row1_col6{\n",
       "            background-color:  rgba(94, 156, 255, 0.59484201824776);\n",
       "        }#T_827dd89a_6657_11eb_b81f_f40f2436fa18row1_col7{\n",
       "            background-color:  rgba(94, 156, 255, 0.502218627956913);\n",
       "        }#T_827dd89a_6657_11eb_b81f_f40f2436fa18row1_col8{\n",
       "            background-color:  rgba(94, 156, 255, 0.35255072318407005);\n",
       "        }#T_827dd89a_6657_11eb_b81f_f40f2436fa18row1_col9{\n",
       "            background-color:  rgba(94, 156, 255, 0.16167375838959688);\n",
       "        }</style><table id=\"T_827dd89a_6657_11eb_b81f_f40f2436fa18\" ><thead>    <tr>        <th class=\"blank level0\" ></th>        <th class=\"col_heading level0 col0\" >clf</th>        <th class=\"col_heading level0 col1\" >features</th>        <th class=\"col_heading level0 col2\" >accuracy</th>        <th class=\"col_heading level0 col3\" >precision</th>        <th class=\"col_heading level0 col4\" >recall</th>        <th class=\"col_heading level0 col5\" >roc_auc</th>        <th class=\"col_heading level0 col6\" >match_mae</th>        <th class=\"col_heading level0 col7\" >match_rmse</th>        <th class=\"col_heading level0 col8\" >xg_mean</th>        <th class=\"col_heading level0 col9\" >xg_std</th>    </tr></thead><tbody>\n",
       "                <tr>\n",
       "                        <th id=\"T_827dd89a_6657_11eb_b81f_f40f2436fa18level0_row0\" class=\"row_heading level0 row0\" >0</th>\n",
       "                        <td id=\"T_827dd89a_6657_11eb_b81f_f40f2436fa18row0_col0\" class=\"data row0 col0\" >RandomForestClassifier(max_depth=8, random_state=0)</td>\n",
       "                        <td id=\"T_827dd89a_6657_11eb_b81f_f40f2436fa18row0_col1\" class=\"data row0 col1\" >['goal_distance', 'goal_angle', 'defender_dist', 'closest_defender', 'defenders_within_box', 'in_box', 'in_shot', 'ball_speed']</td>\n",
       "                        <td id=\"T_827dd89a_6657_11eb_b81f_f40f2436fa18row0_col2\" class=\"data row0 col2\" >0.977</td>\n",
       "                        <td id=\"T_827dd89a_6657_11eb_b81f_f40f2436fa18row0_col3\" class=\"data row0 col3\" >0.904</td>\n",
       "                        <td id=\"T_827dd89a_6657_11eb_b81f_f40f2436fa18row0_col4\" class=\"data row0 col4\" >0.096</td>\n",
       "                        <td id=\"T_827dd89a_6657_11eb_b81f_f40f2436fa18row0_col5\" class=\"data row0 col5\" >0.548</td>\n",
       "                        <td id=\"T_827dd89a_6657_11eb_b81f_f40f2436fa18row0_col6\" class=\"data row0 col6\" >1.275</td>\n",
       "                        <td id=\"T_827dd89a_6657_11eb_b81f_f40f2436fa18row0_col7\" class=\"data row0 col7\" >1.547</td>\n",
       "                        <td id=\"T_827dd89a_6657_11eb_b81f_f40f2436fa18row0_col8\" class=\"data row0 col8\" >0.025</td>\n",
       "                        <td id=\"T_827dd89a_6657_11eb_b81f_f40f2436fa18row0_col9\" class=\"data row0 col9\" >0.064</td>\n",
       "            </tr>\n",
       "            <tr>\n",
       "                        <th id=\"T_827dd89a_6657_11eb_b81f_f40f2436fa18level0_row1\" class=\"row_heading level0 row1\" >1</th>\n",
       "                        <td id=\"T_827dd89a_6657_11eb_b81f_f40f2436fa18row1_col0\" class=\"data row1 col0\" >RandomForestClassifier(max_depth=12, random_state=0)</td>\n",
       "                        <td id=\"T_827dd89a_6657_11eb_b81f_f40f2436fa18row1_col1\" class=\"data row1 col1\" >['goal_distance', 'goal_angle', 'defender_dist', 'closest_defender', 'defenders_within_box', 'in_box', 'in_shot', 'ball_speed']</td>\n",
       "                        <td id=\"T_827dd89a_6657_11eb_b81f_f40f2436fa18row1_col2\" class=\"data row1 col2\" >0.978</td>\n",
       "                        <td id=\"T_827dd89a_6657_11eb_b81f_f40f2436fa18row1_col3\" class=\"data row1 col3\" >0.729</td>\n",
       "                        <td id=\"T_827dd89a_6657_11eb_b81f_f40f2436fa18row1_col4\" class=\"data row1 col4\" >0.197</td>\n",
       "                        <td id=\"T_827dd89a_6657_11eb_b81f_f40f2436fa18row1_col5\" class=\"data row1 col5\" >0.598</td>\n",
       "                        <td id=\"T_827dd89a_6657_11eb_b81f_f40f2436fa18row1_col6\" class=\"data row1 col6\" >1.215</td>\n",
       "                        <td id=\"T_827dd89a_6657_11eb_b81f_f40f2436fa18row1_col7\" class=\"data row1 col7\" >1.493</td>\n",
       "                        <td id=\"T_827dd89a_6657_11eb_b81f_f40f2436fa18row1_col8\" class=\"data row1 col8\" >0.025</td>\n",
       "                        <td id=\"T_827dd89a_6657_11eb_b81f_f40f2436fa18row1_col9\" class=\"data row1 col9\" >0.081</td>\n",
       "            </tr>\n",
       "    </tbody></table>"
      ],
      "text/plain": [
       "<pandas.io.formats.style.Styler at 0x11fdac2b0>"
      ]
     },
     "execution_count": 14,
     "metadata": {},
     "output_type": "execute_result"
    }
   ],
   "source": [
    "df_ranked = df_scored \\\n",
    "    .sort_values(by=[\"precision\", \"roc_auc\",\"recall\"], ascending=[False, False, False]) \\\n",
    "    .reset_index()\n",
    "df_ranked \\\n",
    "    [[\"clf\", \"features\"] + list(style_config.keys())] \\\n",
    "    .style.apply(style_columns(style_config)) \\\n",
    "    .set_precision(3)"
   ]
  },
  {
   "cell_type": "markdown",
   "metadata": {},
   "source": [
    "## Visualize Model Results\n",
    "\n",
    "Model IDs are the ranks (starting from 0) of the models. We can compare the top three models with these plots."
   ]
  },
  {
   "cell_type": "code",
   "execution_count": 15,
   "metadata": {},
   "outputs": [],
   "source": [
    "models = df_ranked.to_dict(orient=\"records\")\n",
    "model_ids = [0, 1]\n",
    "pal = sns.hls_palette(len(model_ids))"
   ]
  },
  {
   "cell_type": "code",
   "execution_count": 16,
   "metadata": {},
   "outputs": [],
   "source": [
    "clf = models[0]['clf']"
   ]
  },
  {
   "cell_type": "code",
   "execution_count": 17,
   "metadata": {},
   "outputs": [
    {
     "data": {
      "image/png": "[encoded data removed]",
      "text/plain": [
       "<Figure size 720x432 with 1 Axes>"
      ]
     },
     "execution_count": 17,
     "metadata": {},
     "output_type": "execute_result"
    }
   ],
   "source": [
    "plot = blank_plot()\n",
    "hist_kwargs = {\"bins\": 100}\n",
    "for model_id, color in zip(model_ids, pal):\n",
    "    hist_kwargs[\"color\"] = color\n",
    "    plot = plot_xg_histogram(models[model_id], d_test, plot, hist_kwargs, min_xg=1e-2)\n",
    "plot[1].get_legend().remove()\n",
    "plot[0]"
   ]
  },
  {
   "cell_type": "code",
   "execution_count": 18,
   "metadata": {},
   "outputs": [
    {
     "data": {
      "image/png": "[encoded data removed]",
      "text/plain": [
       "<Figure size 720x432 with 1 Axes>"
      ]
     },
     "execution_count": 18,
     "metadata": {},
     "output_type": "execute_result"
    }
   ],
   "source": [
    "plot = blank_plot()\n",
    "for model_id, color in zip(model_ids, pal):\n",
    "    plot = plot_errors_by_kicks(models[model_id], d_test, plot, {\"color\": color})\n",
    "plot[1].get_legend().remove()\n",
    "plot[0]"
   ]
  },
  {
   "cell_type": "code",
   "execution_count": 19,
   "metadata": {},
   "outputs": [
    {
     "data": {
      "image/png": "[encoded data removed]",
      "text/plain": [
       "<Figure size 720x432 with 1 Axes>"
      ]
     },
     "execution_count": 19,
     "metadata": {},
     "output_type": "execute_result"
    }
   ],
   "source": [
    "plot = blank_plot()\n",
    "for model_id, color in zip(model_ids, pal):\n",
    "    plot = plot_errors_by_goals(models[model_id], d_test, plot, {\"color\": color})\n",
    "plot[1].get_legend().remove()\n",
    "plot[0]"
   ]
  },
  {
   "cell_type": "code",
   "execution_count": 20,
   "metadata": {},
   "outputs": [
    {
     "name": "stdout",
     "output_type": "stream",
     "text": [
      "Feature ranking:\n",
      "1. feature 0 (0.461412)\n",
      "2. feature 7 (0.257192)\n",
      "3. feature 1 (0.141916)\n",
      "4. feature 2 (0.069950)\n",
      "5. feature 4 (0.024148)\n",
      "6. feature 6 (0.019917)\n",
      "7. feature 3 (0.014980)\n",
      "8. feature 5 (0.010485)\n"
     ]
    },
    {
     "data": {
      "image/png": "[encoded data removed]",
      "text/plain": [
       "<Figure size 432x288 with 1 Axes>"
      ]
     },
     "metadata": {
      "needs_background": "light"
     },
     "output_type": "display_data"
    }
   ],
   "source": [
    "features = [\"goal_distance\",\"goal_angle\",\"defender_dist\",\"closest_defender\",\"defenders_within_box\",\"in_box\",\"in_shot\",\"ball_speed\"]\n",
    "X_train = d_train[features]\n",
    "y_train = d_train[\"ag\"]\n",
    "\n",
    "importances = clf.feature_importances_\n",
    "std = np.std([tree.feature_importances_ for tree in clf.estimators_],\n",
    "             axis=0)\n",
    "indices = np.argsort(importances)[::-1]\n",
    "\n",
    "# Print the feature ranking\n",
    "print(\"Feature ranking:\")\n",
    "\n",
    "for f in range(X_train.shape[1]):\n",
    "    print(\"%d. feature %d (%f)\" % (f + 1, indices[f], importances[indices[f]]))\n",
    "    \n",
    "# Plot the impurity-based feature importances of the forest\n",
    "plt.figure()\n",
    "plt.title(\"Feature importances\")\n",
    "plt.bar(range(X_train.shape[1]), importances[indices],\n",
    "        color=\"r\", yerr=std[indices], align=\"center\")\n",
    "plt.xticks(range(X_train.shape[1]), indices)\n",
    "plt.xlim([-1, X_train.shape[1]])\n",
    "plt.show()"
   ]
  },
  {
   "cell_type": "code",
   "execution_count": 21,
   "metadata": {},
   "outputs": [
    {
     "data": {
      "text/plain": [
       "['../models/random_forest_max_depth_12.pkl']"
      ]
     },
     "execution_count": 21,
     "metadata": {},
     "output_type": "execute_result"
    }
   ],
   "source": [
    "import joblib\n",
    "clf = models[0]['clf']\n",
    "joblib.dump(clf,\"../models/random_forest_max_depth_8.pkl\")\n",
    "clf = models[1]['clf']\n",
    "joblib.dump(clf,\"../models/random_forest_max_depth_12.pkl\")"
   ]
  },
  {
   "cell_type": "code",
   "execution_count": null,
   "metadata": {},
   "outputs": [],
   "source": []
  }
 ],
 "metadata": {
  "kernelspec": {
   "display_name": "Python 3",
   "language": "python",
   "name": "python3"
  },
  "language_info": {
   "codemirror_mode": {
    "name": "ipython",
    "version": 3
   },
   "file_extension": ".py",
   "mimetype": "text/x-python",
   "name": "python",
   "nbconvert_exporter": "python",
   "pygments_lexer": "ipython3",
   "version": "3.6.1"
  },
  "varInspector": {
   "cols": {
    "lenName": 16,
    "lenType": 16,
    "lenVar": 40
   },
   "kernels_config": {
    "python": {
     "delete_cmd_postfix": "",
     "delete_cmd_prefix": "del ",
     "library": "var_list.py",
     "varRefreshCmd": "print(var_dic_list())"
    },
    "r": {
     "delete_cmd_postfix": ") ",
     "delete_cmd_prefix": "rm(",
     "library": "var_list.r",
     "varRefreshCmd": "cat(var_dic_list()) "
    }
   },
   "types_to_exclude": [
    "module",
    "function",
    "builtin_function_or_method",
    "instance",
    "_Feature"
   ],
   "window_display": false
  }
 },
 "nbformat": 4,
 "nbformat_minor": 4
}
