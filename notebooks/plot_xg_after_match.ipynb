{
 "cells": [
  {
   "cell_type": "markdown",
   "metadata": {},
   "source": [
    "# Plot XG After Match\n",
    "\n",
    "The goal of this notebook is to create a time plot that shows the XG and actual goals for each team over the course of the match, after the match has been completed.\n",
    "\n",
    "It may be better to implement these visualizations on the frontend, but we can quickly prototype plots and return them as images from our server for completed matches on-demand."
   ]
  },
  {
   "cell_type": "code",
   "execution_count": 1,
   "metadata": {},
   "outputs": [],
   "source": [
    "%matplotlib inline"
   ]
  },
  {
   "cell_type": "code",
   "execution_count": 2,
   "metadata": {},
   "outputs": [],
   "source": [
    "import sys\n",
    "sys.path.append(\"../\")\n",
    "\n",
    "from haxml.prediction import (\n",
    "    generate_rows_demo,\n",
    "    predict_xg_demo\n",
    ")\n",
    "from haxml.utils import (\n",
    "    get_stadiums,\n",
    "    load_match,\n",
    ")\n",
    "import joblib\n",
    "from matplotlib.figure import Figure\n",
    "import matplotlib.pyplot as plt"
   ]
  },
  {
   "cell_type": "code",
   "execution_count": 3,
   "metadata": {},
   "outputs": [],
   "source": [
    "MATCH = \"-MOyZiwOkxMJwf-lNiT3\"\n",
    "STADIUM = \"NAFL 1v1/2v2 Map v1\""
   ]
  },
  {
   "cell_type": "code",
   "execution_count": 4,
   "metadata": {},
   "outputs": [],
   "source": [
    "model_name = \"demo_logit\"\n",
    "demo_clf = joblib.load(\"../models/demo_logistic_regression.pkl\")\n",
    "stadiums = get_stadiums(\"../data/stadiums.json\")"
   ]
  },
  {
   "cell_type": "code",
   "execution_count": 5,
   "metadata": {},
   "outputs": [],
   "source": [
    "s = stadiums[STADIUM]\n",
    "match = load_match(\n",
    "    \"../data/packed_matches/{}.json\".format(MATCH),\n",
    "    lambda m: predict_xg_demo(m, s, generate_rows_demo, demo_clf)\n",
    ")"
   ]
  },
  {
   "cell_type": "code",
   "execution_count": 6,
   "metadata": {},
   "outputs": [],
   "source": [
    "def get_xg_time_series(match):\n",
    "    \"\"\"\n",
    "    Produces series for XG match time plot.\n",
    "    Args:\n",
    "        match: Inflated match data (dict).\n",
    "    Returns:\n",
    "        Tuple of (time, ags_red, ags_blue, xgs_red, xgs_blue).\n",
    "    \"\"\"\n",
    "    time = []\n",
    "    ags_red = []\n",
    "    ags_blue = []\n",
    "    xgs_red = []\n",
    "    xgs_blue = []\n",
    "    ag_red = 0\n",
    "    ag_blue = 0\n",
    "    xg_red = 0\n",
    "    xg_blue = 0\n",
    "    time.append(0)\n",
    "    ags_red.append(ag_red)\n",
    "    ags_blue.append(ag_blue)\n",
    "    xgs_red.append(xg_red)\n",
    "    xgs_blue.append(xg_blue)\n",
    "    for kick in match[\"kicks\"]:\n",
    "        if kick[\"type\"] == \"goal\":\n",
    "            if kick[\"fromTeam\"] == \"red\":\n",
    "                ag_red += 1\n",
    "            else:\n",
    "                ag_blue += 1\n",
    "        elif kick[\"type\"] == \"own_goal\":\n",
    "            if kick[\"team\"] == \"red\":\n",
    "                ag_blue += 1\n",
    "            else:\n",
    "                ag_red += 1\n",
    "        if kick[\"fromTeam\"] == \"red\":\n",
    "            xg_red += kick[\"xg\"]\n",
    "        else:\n",
    "            xg_blue += kick[\"xg\"]\n",
    "        time.append(kick[\"time\"])\n",
    "        ags_red.append(ag_red)\n",
    "        ags_blue.append(ag_blue)\n",
    "        xgs_red.append(xg_red)\n",
    "        xgs_blue.append(xg_blue)\n",
    "    time.append(match[\"score\"][\"time\"])\n",
    "    ags_red.append(ag_red)\n",
    "    ags_blue.append(ag_blue)\n",
    "    xgs_red.append(xg_red)\n",
    "    xgs_blue.append(xg_blue)\n",
    "    return (\n",
    "        time,\n",
    "        ags_red,\n",
    "        ags_blue,\n",
    "        xgs_red,\n",
    "        xgs_blue\n",
    "    )"
   ]
  },
  {
   "cell_type": "code",
   "execution_count": 7,
   "metadata": {},
   "outputs": [],
   "source": [
    "def plot_xg_time_series(match):\n",
    "    \"\"\"\n",
    "    Plots XG match time series for a match.\n",
    "    Args:\n",
    "        match: Inflated match data (dict).\n",
    "    Returns:\n",
    "        Tuple (fig, ax).\n",
    "    \"\"\"\n",
    "    fig = Figure()\n",
    "    ax = fig.add_subplot(1, 1, 1)\n",
    "    xg_time_ser = get_xg_time_series(match)\n",
    "    time, ags_red, ags_blue, xgs_red, xgs_blue = xg_time_ser\n",
    "    ax.plot(time, ags_red, color=\"red\", linestyle=\"-\", label=\"Red Actual\")\n",
    "    ax.plot(time, xgs_red, color=\"red\", linestyle=\"--\", label=\"Red XG\")\n",
    "    ax.plot(time, ags_blue, color=\"blue\", linestyle=\"-\", label=\"Blue Actual\")\n",
    "    ax.plot(time, xgs_blue, color=\"blue\", linestyle=\"--\", label=\"Blue XG\")\n",
    "    title = \"Final Score: {} Won {}-{}\\n{}\"\n",
    "    red_score = match[\"score\"][\"red\"]\n",
    "    blue_score = match[\"score\"][\"blue\"]\n",
    "    winner = \"Red\" if red_score > blue_score else \"Blue\"\n",
    "    stadium_name = match[\"stadium\"]\n",
    "    ax.set_title(title.format(winner, red_score, blue_score, stadium_name))\n",
    "    ax.set_xlabel(\"Match Time (secs)\")\n",
    "    ax.set_ylabel(\"Goals\")\n",
    "    ax.legend()\n",
    "    return fig, ax"
   ]
  },
  {
   "cell_type": "code",
   "execution_count": 8,
   "metadata": {},
   "outputs": [
    {
     "data": {
      "image/png": "[encoded data removed]",
      "text/plain": [
       "<Figure size 720x432 with 1 Axes>"
      ]
     },
     "execution_count": 8,
     "metadata": {},
     "output_type": "execute_result"
    }
   ],
   "source": [
    "fig, ax = plot_xg_time_series(match)\n",
    "ax.set_title(\"{}\\nXG Model: {}\".format(ax.title.get_text(), model_name))\n",
    "fig.set_size_inches(10, 6)\n",
    "fig"
   ]
  },
  {
   "cell_type": "code",
   "execution_count": null,
   "metadata": {},
   "outputs": [],
   "source": []
  }
 ],
 "metadata": {
  "kernelspec": {
   "display_name": "Python 3",
   "language": "python",
   "name": "python3"
  },
  "language_info": {
   "codemirror_mode": {
    "name": "ipython",
    "version": 3
   },
   "file_extension": ".py",
   "mimetype": "text/x-python",
   "name": "python",
   "nbconvert_exporter": "python",
   "pygments_lexer": "ipython3",
   "version": "3.6.1"
  },
  "varInspector": {
   "cols": {
    "lenName": 16,
    "lenType": 16,
    "lenVar": 40
   },
   "kernels_config": {
    "python": {
     "delete_cmd_postfix": "",
     "delete_cmd_prefix": "del ",
     "library": "var_list.py",
     "varRefreshCmd": "print(var_dic_list())"
    },
    "r": {
     "delete_cmd_postfix": ") ",
     "delete_cmd_prefix": "rm(",
     "library": "var_list.r",
     "varRefreshCmd": "cat(var_dic_list()) "
    }
   },
   "types_to_exclude": [
    "module",
    "function",
    "builtin_function_or_method",
    "instance",
    "_Feature"
   ],
   "window_display": false
  }
 },
 "nbformat": 4,
 "nbformat_minor": 4
}
